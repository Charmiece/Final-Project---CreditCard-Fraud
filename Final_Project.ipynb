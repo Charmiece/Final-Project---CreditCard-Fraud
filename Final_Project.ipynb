{
  "nbformat": 4,
  "nbformat_minor": 0,
  "metadata": {
    "colab": {
      "name": "Final Project",
      "provenance": [],
      "authorship_tag": "ABX9TyNZPLu55g05RbI0P5Fgf3Sr",
      "include_colab_link": true
    },
    "kernelspec": {
      "name": "python3",
      "display_name": "Python 3"
    },
    "language_info": {
      "name": "python"
    }
  },
  "cells": [
    {
      "cell_type": "markdown",
      "metadata": {
        "id": "view-in-github",
        "colab_type": "text"
      },
      "source": [
        "<a href=\"https://colab.research.google.com/github/Charmiece/Final-Project---CreditCard-Fraud/blob/Afreensiddiqa/Final_Project.ipynb\" target=\"_parent\"><img src=\"https://colab.research.google.com/assets/colab-badge.svg\" alt=\"Open In Colab\"/></a>"
      ]
    },
    {
      "cell_type": "code",
      "source": [
        "import os\n",
        "# Find the latest version of spark 3.0  from http://www.apache.org/dist/spark/ and enter as the spark version\n",
        "# For example:\n",
        "# spark_version = 'spark-3.0.3'\n",
        "spark_version = 'spark-3.0.3'\n",
        "os.environ['SPARK_VERSION']=spark_version\n",
        "\n",
        "# Install Spark and Java\n",
        "!apt-get update\n",
        "!apt-get install openjdk-11-jdk-headless -qq > /dev/null\n",
        "!wget -q http://www.apache.org/dist/spark/$SPARK_VERSION/$SPARK_VERSION-bin-hadoop2.7.tgz\n",
        "!tar xf $SPARK_VERSION-bin-hadoop2.7.tgz\n",
        "!pip install -q findspark\n",
        "\n",
        "# Set Environment Variables\n",
        "os.environ[\"JAVA_HOME\"] = \"/usr/lib/jvm/java-11-openjdk-amd64\"\n",
        "os.environ[\"SPARK_HOME\"] = f\"/content/{spark_version}-bin-hadoop2.7\"\n",
        "\n",
        "# Start a SparkSession\n",
        "import findspark\n",
        "findspark.init()"
      ],
      "metadata": {
        "colab": {
          "base_uri": "https://localhost:8080/"
        },
        "id": "hJ30f57RGrvg",
        "outputId": "06223a81-f5c1-4f71-d380-8ca58b7f6ccf"
      },
      "execution_count": 1,
      "outputs": [
        {
          "output_type": "stream",
          "name": "stdout",
          "text": [
            "\r0% [Working]\r            \rGet:1 http://security.ubuntu.com/ubuntu bionic-security InRelease [88.7 kB]\n",
            "\r            \rHit:2 http://ppa.launchpad.net/c2d4u.team/c2d4u4.0+/ubuntu bionic InRelease\n",
            "\r0% [Connecting to archive.ubuntu.com (91.189.88.142)] [1 InRelease 88.7 kB/88.7\r                                                                               \rHit:3 http://archive.ubuntu.com/ubuntu bionic InRelease\n",
            "\r                                                                               \rGet:4 http://archive.ubuntu.com/ubuntu bionic-updates InRelease [88.7 kB]\n",
            "\r                                                                               \rGet:5 https://cloud.r-project.org/bin/linux/ubuntu bionic-cran40/ InRelease [3,626 B]\n",
            "\r                                                                               \rHit:6 http://ppa.launchpad.net/cran/libgit2/ubuntu bionic InRelease\n",
            "\r                                                                               \rGet:7 http://ppa.launchpad.net/deadsnakes/ppa/ubuntu bionic InRelease [15.9 kB]\n",
            "Get:8 http://archive.ubuntu.com/ubuntu bionic-backports InRelease [74.6 kB]\n",
            "Hit:9 http://ppa.launchpad.net/graphics-drivers/ppa/ubuntu bionic InRelease\n",
            "Ign:10 https://developer.download.nvidia.com/compute/cuda/repos/ubuntu1804/x86_64  InRelease\n",
            "Ign:11 https://developer.download.nvidia.com/compute/machine-learning/repos/ubuntu1804/x86_64  InRelease\n",
            "Get:12 https://developer.download.nvidia.com/compute/cuda/repos/ubuntu1804/x86_64  Release [696 B]\n",
            "Hit:13 https://developer.download.nvidia.com/compute/machine-learning/repos/ubuntu1804/x86_64  Release\n",
            "Get:14 https://developer.download.nvidia.com/compute/cuda/repos/ubuntu1804/x86_64  Release.gpg [836 B]\n",
            "Get:15 http://security.ubuntu.com/ubuntu bionic-security/universe amd64 Packages [1,484 kB]\n",
            "Get:16 http://security.ubuntu.com/ubuntu bionic-security/main amd64 Packages [2,660 kB]\n",
            "Get:17 http://ppa.launchpad.net/deadsnakes/ppa/ubuntu bionic/main amd64 Packages [45.3 kB]\n",
            "Get:18 http://archive.ubuntu.com/ubuntu bionic-updates/multiverse amd64 Packages [29.8 kB]\n",
            "Get:19 http://archive.ubuntu.com/ubuntu bionic-updates/main amd64 Packages [3,098 kB]\n",
            "Get:20 http://archive.ubuntu.com/ubuntu bionic-updates/universe amd64 Packages [2,262 kB]\n",
            "Get:22 https://developer.download.nvidia.com/compute/cuda/repos/ubuntu1804/x86_64  Packages [945 kB]\n",
            "Fetched 10.8 MB in 2s (4,346 kB/s)\n",
            "Reading package lists... Done\n"
          ]
        }
      ]
    },
    {
      "cell_type": "code",
      "source": [
        "from pyspark.sql import SparkSession\n",
        "spark = SparkSession.builder.appName(\"CloudETL\").config(\"spark.driver.extraClassPath\",\"/content/postgresql-42.2.9.jar\").getOrCreate()"
      ],
      "metadata": {
        "id": "XYgBh3WyHI4H"
      },
      "execution_count": 2,
      "outputs": []
    },
    {
      "cell_type": "code",
      "source": [
        "from pyspark import SparkFiles\n",
        "url =\"https://fraudcreditcard.s3.amazonaws.com/fraudTrain.csv\"\n",
        "spark.sparkContext.addFile(url)\n",
        "df = spark.read.csv(SparkFiles.get(\"fraudTrain.csv\"), sep=\",\", header=True)\n",
        "# Show DataFrame\n",
        "df.show()"
      ],
      "metadata": {
        "colab": {
          "base_uri": "https://localhost:8080/"
        },
        "id": "XxAMQIR8HRAl",
        "outputId": "4c1bcb75-954a-4137-8ae5-9f885c4b8d5a"
      },
      "execution_count": 3,
      "outputs": [
        {
          "output_type": "stream",
          "name": "stdout",
          "text": [
            "+---+---------------------+-------------------+--------------------+-------------+------+-----------+---------+------+--------------------+--------------------+-----+-----+-------+------------------+--------+--------------------+----------+--------------------+----------+------------------+------------------+--------+\n",
            "|_c0|trans_date_trans_time|             cc_num|            merchant|     category|   amt|      first|     last|gender|              street|                city|state|  zip|    lat|              long|city_pop|                 job|       dob|           trans_num| unix_time|         merch_lat|        merch_long|is_fraud|\n",
            "+---+---------------------+-------------------+--------------------+-------------+------+-----------+---------+------+--------------------+--------------------+-----+-----+-------+------------------+--------+--------------------+----------+--------------------+----------+------------------+------------------+--------+\n",
            "|  0|  2019-01-01 00:00:18|   2703186189652095|fraud_Rippin, Kub...|     misc_net|  4.97|   Jennifer|    Banks|     F|      561 Perry Cove|      Moravian Falls|   NC|28654|36.0788|          -81.1781|    3495|Psychologist, cou...|1988-03-09|0b242abb623afc578...|1325376018|         36.011293|        -82.048315|       0|\n",
            "|  1|  2019-01-01 00:00:44|       630423337322|fraud_Heller, Gut...|  grocery_pos|107.23|  Stephanie|     Gill|     F|43039 Riley Green...|              Orient|   WA|99160|48.8878|         -118.2105|     149|Special education...|1978-06-21|1f76529f857473494...|1325376044|49.159046999999994|       -118.186462|       0|\n",
            "|  2|  2019-01-01 00:00:51|     38859492057661|fraud_Lind-Buckridge|entertainment|220.11|     Edward|  Sanchez|     M|594 White Dale Su...|          Malad City|   ID|83252|42.1808|          -112.262|    4154|Nature conservati...|1962-01-19|a1a22d70485983eac...|1325376051|         43.150704|       -112.154481|       0|\n",
            "|  3|  2019-01-01 00:01:16|   3534093764340240|fraud_Kutch, Herm...|gas_transport|  45.0|     Jeremy|    White|     M|9443 Cynthia Cour...|             Boulder|   MT|59632|46.2306|         -112.1138|    1939|     Patent attorney|1967-01-12|6b849c168bdad6f86...|1325376076|         47.034331|       -112.561071|       0|\n",
            "|  4|  2019-01-01 00:03:06|    375534208663984| fraud_Keeling-Crist|     misc_pos| 41.96|      Tyler|   Garcia|     M|    408 Bradley Rest|            Doe Hill|   VA|24433|38.4207|          -79.4629|      99|Dance movement ps...|1986-03-28|a41d7549acf907893...|1325376186|         38.674999|        -78.632459|       0|\n",
            "|  5|  2019-01-01 00:04:08|   4767265376804500|fraud_Stroman, Hu...|gas_transport| 94.63|   Jennifer|   Conner|     F|   4655 David Island|              Dublin|   PA|18917| 40.375|          -75.2045|    2158|   Transport planner|1961-06-19|189a841a0a8ba0305...|1325376248|         40.653382|-76.15266700000001|       0|\n",
            "|  6|  2019-01-01 00:04:42|     30074693890476|fraud_Rowe-Vander...|  grocery_net| 44.54|     Kelsey| Richards|     F|889 Sarah Station...|             Holcomb|   KS|67851|37.9931|         -100.9893|    2691|     Arboriculturist|1993-08-16|83ec1cc84142af6e2...|1325376282|37.162704999999995|        -100.15337|       0|\n",
            "|  7|  2019-01-01 00:05:08|   6011360759745864|fraud_Corwin-Collins|gas_transport| 71.65|     Steven| Williams|     M|231 Flores Pass S...|            Edinburg|   VA|22824|38.8432|          -78.6003|    6018|Designer, multimedia|1947-08-21|6d294ed2cc447d2c7...|1325376308|         38.948089|        -78.540296|       0|\n",
            "|  8|  2019-01-01 00:05:18|   4922710831011201|    fraud_Herzog Ltd|     misc_pos|  4.27|    Heather|    Chase|     F|6888 Hicks Stream...|               Manor|   PA|15665|40.3359|          -79.6607|    1472|Public affairs co...|1941-03-07|fc28024ce480f8ef2...|1325376318|         40.351813|        -79.958146|       0|\n",
            "|  9|  2019-01-01 00:06:01|   2720830304681674|fraud_Schoen, Kup...|  grocery_pos|198.39|    Melissa|  Aguilar|     F|21326 Taylor Squa...|         Clarksville|   TN|37040| 36.522|-87.34899999999999|  151785|         Pathologist|1974-03-28|3b9014ea8fb80bd65...|1325376361|         37.179198|        -87.485381|       0|\n",
            "| 10|  2019-01-01 00:06:23|      4642894980163|fraud_Rutherford-...|  grocery_pos| 24.74|      Eddie|   Mendez|     M|1831 Faith View S...|            Clarinda|   IA|51632|40.7491|           -95.038|    7297|          IT trainer|1990-07-13|d71c95ab6b7356dd7...|1325376383|40.275890999999994|        -96.011548|       0|\n",
            "| 11|  2019-01-01 00:06:53|    377234009633447|fraud_Kerluke-Abs...| shopping_net|  7.77|    Theresa|Blackwell|     F|43576 Kristina Is...| Shenandoah Junction|   WV|25442|39.3716|          -77.8229|    1925|   Systems developer|1966-02-14|3c74776e558f1499a...|1325376413|         40.103866|        -78.624459|       0|\n",
            "| 12|  2019-01-01 00:06:56|    180042946491150|   fraud_Lockman Ltd|  grocery_pos| 71.22|    Charles|   Robles|     M|    3337 Lisa Divide|    Saint Petersburg|   FL|33710|27.7898|          -82.7243|  341043|      Engineer, land|1989-02-28|c1d9a7ddb1e34639f...|1325376416|         27.630593|        -82.308891|       0|\n",
            "| 13|  2019-01-01 00:07:27|   5559857416065248|     fraud_Kiehn Inc|  grocery_pos| 96.29|       Jack|     Hill|     M|5916 Susan Bridge...|             Grenada|   CA|96038|41.6125|         -122.5258|     589|     Systems analyst|1945-12-21|413636e759663f264...|1325376447|          41.65752|       -122.230347|       0|\n",
            "| 14|  2019-01-01 00:09:03|   3514865930894695|   fraud_Beier-Hyatt| shopping_pos|  7.77|Christopher|Castaneda|     M|1632 Cohen Drive ...|High Rolls Mounta...|   NM|88325|32.9396|         -105.8189|     899|     Naval architect|1967-08-30|8a6293af5ed278dea...|1325376543|         32.863258|       -106.520205|       0|\n",
            "| 15|  2019-01-01 00:09:20|   6011999606625827|fraud_Schmidt and...| shopping_net|  3.26|     Ronald|   Carson|     M|     870 Rocha Drive|     Harrington Park|   NJ| 7640|40.9918|            -73.98|    4664|Radiographer, dia...|1965-06-30|baae0b096835c9758...|1325376560|         41.831174|        -74.335559|       0|\n",
            "| 16|  2019-01-01 00:10:49|   6011860238257910|fraud_Lebsack and...|     misc_net| 327.0|       Lisa|   Mendez|     F|44259 Beth Statio...|              Lahoma|   OK|73754| 36.385|          -98.0727|    1078|Programme researc...|1952-07-06|991c04803b4d4eeab...|1325376649|36.384091999999995|        -99.048472|       0|\n",
            "| 17|  2019-01-01 00:10:58|   3565423334076143|  fraud_Mayert Group| shopping_pos|341.67|     Nathan|   Thomas|     M|4923 Campbell Pin...|            Carlisle|   IN|47838|38.9763|          -87.3667|    4081|     Energy engineer|1938-03-15|f12cf52be2175703d...|1325376658|38.674490999999996|        -88.305767|       0|\n",
            "| 18|  2019-01-01 00:11:14|   2348245054386329|fraud_Konopelski,...|  food_dining| 63.07|     Justin|      Gay|     M|268 Hayes Rue Sui...|         Harborcreek|   PA|16421|42.1767|          -79.9416|    2518|     Event organiser|1946-02-02|8500f3d459047eac8...|1325376674|         41.430274|        -79.492553|       0|\n",
            "| 19|  2019-01-01 00:12:34|4956828990005111019|fraud_Schultz, Si...|  grocery_pos| 44.71|    Kenneth| Robinson|     M|  269 Sanchez Rapids|           Elizabeth|   NJ| 7208|40.6747|          -74.2239|  124967|Operational resea...|1980-12-21|09eff9c806365e2a6...|1325376754|         40.079588|-74.84808699999999|       0|\n",
            "+---+---------------------+-------------------+--------------------+-------------+------+-----------+---------+------+--------------------+--------------------+-----+-----+-------+------------------+--------+--------------------+----------+--------------------+----------+------------------+------------------+--------+\n",
            "only showing top 20 rows\n",
            "\n"
          ]
        }
      ]
    },
    {
      "cell_type": "code",
      "source": [
        "from pyspark import SparkFiles\n",
        "url =\"https://fraudcreditcard.s3.amazonaws.com/fraudTest.csv\"\n",
        "spark.sparkContext.addFile(url)\n",
        "df = spark.read.csv(SparkFiles.get(\"fraudTest.csv\"), sep=\",\", header=True)\n",
        "# Show DataFrame\n",
        "df.show()"
      ],
      "metadata": {
        "colab": {
          "base_uri": "https://localhost:8080/"
        },
        "id": "GgixvMCRjZVr",
        "outputId": "0f90eaf6-d181-44da-9e94-e78ac4e3cc56"
      },
      "execution_count": 4,
      "outputs": [
        {
          "output_type": "stream",
          "name": "stdout",
          "text": [
            "+---+---------------------+-----------+--------------------+--------------+------+---------+--------+------+--------------------+-------------+-----+-----+-------+---------+--------+--------------------+----------+--------------------+----------+---------+-----------+--------+\n",
            "|_c0|trans_date_trans_time|     cc_num|            merchant|      category|   amt|    first|    last|gender|              street|         city|state|  zip|    lat|     long|city_pop|                 job|       dob|           trans_num| unix_time|merch_lat| merch_long|is_fraud|\n",
            "+---+---------------------+-----------+--------------------+--------------+------+---------+--------+------+--------------------+-------------+-----+-----+-------+---------+--------+--------------------+----------+--------------------+----------+---------+-----------+--------+\n",
            "|  0|      6/21/2020 12:14|2.29116E+15|fraud_Kirlin and ...| personal_care|  2.86|     Jeff| Elliott|     M|   351 Darlene Green|     Columbia|   SC|29209|33.9659| -80.9355|  333497| Mechanical engineer| 3/19/1968|2da90c7d74bd46a0c...|1371816865|33.986391| -81.200714|       0|\n",
            "|  1|      6/21/2020 12:14|3.57303E+15|fraud_Sporer-Keebler| personal_care| 29.84|   Joanne|Williams|     F|    3638 Marsh Union|      Altonah|   UT|84002|40.3207| -110.436|     302|Sales professiona...| 1/17/1990|324cc204407e99f51...|1371816873|39.450498|-109.960431|       0|\n",
            "|  2|      6/21/2020 12:14|3.59822E+15|fraud_Swaniawski,...|health_fitness| 41.28|   Ashley|   Lopez|     F|9333 Valentine Point|     Bellmore|   NY|11710|40.6729| -73.5365|   34496|   Librarian, public|10/21/1970|c81755dbbbea9d5c7...|1371816893| 40.49581| -74.196111|       0|\n",
            "|  3|      6/21/2020 12:15|3.59192E+15|   fraud_Haley Group|      misc_pos| 60.05|    Brian|Williams|     M|32941 Krystal Mil...|   Titusville|   FL|32780|28.5697| -80.8191|   54767|        Set designer| 7/25/1987|2159175b9efe66dc3...|1371816915|28.812398| -80.883061|       0|\n",
            "|  4|      6/21/2020 12:15|3.52683E+15|fraud_Johnston-Ca...|        travel|  3.19|   Nathan|  Massey|     M|5783 Evan Roads A...|     Falmouth|   MI|49632|44.2529|  -85.017|    1126|  Furniture designer|  7/6/1955|57ff021bd3f328f87...|1371816917|44.959148| -85.884734|       0|\n",
            "|  5|      6/21/2020 12:15|3.04077E+13| fraud_Daugherty LLC|     kids_pets| 19.55| Danielle|   Evans|     F|76752 David Lodge...|    Breesport|   NY|14816|42.1939| -76.7361|     520|     Psychotherapist|10/13/1991|798db04aaceb4febd...|1371816937|41.747157| -77.584197|       0|\n",
            "|  6|      6/21/2020 12:15|2.13181E+14| fraud_Romaguera Ltd|health_fitness|133.93|    Kayla|  Sutton|     F|     010 Weaver Land|     Carlotta|   CA|95528| 40.507|-123.9743|    1139|Therapist, occupa...| 1/15/1951|17003d7ce534440ea...|1371816944|41.499458|-124.888729|       0|\n",
            "|  7|      6/21/2020 12:15|3.58929E+15|   fraud_Reichel LLC| personal_care| 10.37|    Paula| Estrada|     F|     350 Stacy Glens|      Spencer|   SD|57374|43.7557| -97.5936|     343|Development worke...|  3/5/1972|8be473af4f05fc614...|1371816950|44.495498| -97.728453|       0|\n",
            "|  8|      6/21/2020 12:16|3.59636E+15|fraud_Goyette, Ho...|  shopping_pos|  4.37|    David| Everett|     M|     4138 David Fall|   Morrisdale|   PA|16858|41.0001| -78.2357|    3688|       Advice worker| 5/27/1973|71a1da150d1ce5101...|1371816970|41.546067| -78.120238|       0|\n",
            "|  9|      6/21/2020 12:16| 3.5469E+15| fraud_Kilback Group|   food_dining| 66.54|    Kayla|  Obrien|     F|7921 Robert Port ...| Prairie Hill|   TX|76678|31.6591| -96.8094|     263|           Barrister| 5/30/1956|a7915132c7c424099...|1371816971|31.782919| -96.366185|       0|\n",
            "| 10|      6/21/2020 12:16|2.24254E+15|fraud_Feil, Hilpe...|   food_dining|  7.01|   Samuel| Jenkins|     M|43235 Mckenzie Vi...|     Westport|   KY|40077|38.4921| -85.4524|     564| Pensions consultant| 4/10/1996|3b8e4d02d9e1a3bf9...|1371816980|38.977546| -84.727994|       0|\n",
            "| 11|      6/21/2020 12:16|5.71465E+11|fraud_Gottlieb Group|     kids_pets|  42.4|    Louis|  Fisher|     M|     45654 Hess Rest|Fort Washakie|   WY|82514|43.0048|-108.8964|    1645|   Freight forwarder| 2/26/1976|fa3071565d94fb286...|1371817007|42.687774|-108.670054|       0|\n",
            "| 12|      6/21/2020 12:17|6.59325E+15|fraud_Connelly-Ca...|          home|  2.91|  Melissa|    Meza|     F|  244 Abbott Parkway|  Loxahatchee|   FL|33470|26.7383|  -80.276|   26551|           Paramedic|  1/4/1977|a21cb82e7d8fdbf40...|1371817041| 26.07846| -80.569932|       0|\n",
            "| 13|      6/21/2020 12:18| 4.9883E+12|fraud_Bechtelar-R...|   food_dining|  7.93|  William|Thompson|     M|977 Rita Grove Ap...|  Rock Tavern|   NY|12575|41.4575| -74.1659|    2258|   Building surveyor| 3/17/1937|d0d2b5cca5ae19e0a...|1371817107| 40.71168| -73.668384|       0|\n",
            "| 14|      6/21/2020 12:18| 6.0115E+15|fraud_Lubowitz-Wa...|     kids_pets|  2.91|   Ashley| Whitney|     F|   4038 Smith Avenue|        Jones|   AL|36749|32.5104| -86.8138|    1089|  Materials engineer| 11/2/1971|61dca41a9728ea5fd...|1371817117|32.721131| -87.253846|       0|\n",
            "| 15|      6/21/2020 12:18|4.57064E+15|fraud_Welch, Rath...| entertainment| 24.73|Christine| Leblanc|     F|5097 Jodi Vista S...|      Deltona|   FL|32725|28.8989| -81.2473|   88735|Commercial hortic...|  4/9/1988|ea11379e8aa1b08d5...|1371817121| 29.83155| -80.926829|       0|\n",
            "| 16|      6/21/2020 12:18|4.90663E+18|  fraud_Hickle Group|  shopping_pos|  2.33|  Charles|  Moreno|     M|838 Franklin Prai...|     Key West|   FL|33040|24.6557| -81.3824|   32891|        Town planner| 2/13/1987|00da72495351ce6bd...|1371817134|24.306325| -81.065169|       0|\n",
            "| 17|      6/21/2020 12:19|4.90885E+15|fraud_Lang, Towne...|     kids_pets|  16.6|   Lauren|  Torres|     F|   03030 White Lakes|    Grandview|   TX|76050|32.2779| -97.2351|    5875|Radiographer, the...| 7/24/1992|67288141e8206f6f4...|1371817190|33.182349| -97.919284|       0|\n",
            "| 18|      6/21/2020 12:19|4.86131E+18|fraud_Morissette LLC| entertainment| 80.11|   Ashley|    Cruz|     F|65417 Walsh Radia...|  Saint Amant|   LA|70774|30.2385| -90.8435|   10076|Surveyor, rural p...|12/16/1977|71bb6ee81f9af4d2a...|1371817196| 30.44999| -89.930996|       0|\n",
            "| 19|      6/21/2020 12:20|6.53844E+15|  fraud_Prosacco LLC| personal_care|  5.71|     Gina|  Grimes|     F|     444 Robert Mews| Clarks Mills|   PA|16114|41.3851| -80.1752|     606|      Energy manager| 9/22/1997|2d7640ea4f3bcd520...|1371817213|40.508064| -79.615158|       0|\n",
            "+---+---------------------+-----------+--------------------+--------------+------+---------+--------+------+--------------------+-------------+-----+-----+-------+---------+--------+--------------------+----------+--------------------+----------+---------+-----------+--------+\n",
            "only showing top 20 rows\n",
            "\n"
          ]
        }
      ]
    },
    {
      "cell_type": "code",
      "execution_count": 5,
      "metadata": {
        "id": "WeiCAr5fAkgi"
      },
      "outputs": [],
      "source": [
        "# importing the packages\n",
        "import datetime\n",
        "import warnings\n",
        "import numpy as np\n",
        "import pandas as pd\n",
        "import seaborn as sns\n",
        "from datetime import date\n",
        "import sklearn.exceptions\n",
        "from pylab import rcParams\n",
        "import matplotlib.pyplot as plt\n",
        "from sklearn import linear_model\n",
        "from sklearn.svm import OneClassSVM\n",
        "from imblearn.over_sampling import SMOTE\n",
        "from sklearn.ensemble import IsolationForest\n",
        "from imblearn.under_sampling import NearMiss \n",
        "from sklearn.metrics import confusion_matrix\n",
        "from sklearn.tree import DecisionTreeClassifier\n",
        "from sklearn.neighbors import LocalOutlierFactor\n",
        "from sklearn.metrics import plot_confusion_matrix\n",
        "from sklearn.linear_model import LogisticRegression\n",
        "from sklearn import datasets, metrics, preprocessing, svm\n",
        "from sklearn.metrics import precision_recall_fscore_support\n",
        "from sklearn.metrics import classification_report,accuracy_score\n",
        "warnings.filterwarnings(\"ignore\", category=sklearn.exceptions.UndefinedMetricWarning)\n",
        "\n",
        "\n",
        "\n",
        "from sklearn.ensemble import RandomForestClassifier"
      ]
    },
    {
      "cell_type": "code",
      "source": [
        "# loading data\n",
        "data_train = pd.read_csv(\"https://fraudcreditcard.s3.amazonaws.com/fraudTrain.csv\")\n",
        "data_test = pd.read_csv(\"https://fraudcreditcard.s3.amazonaws.com/fraudTest.csv\")"
      ],
      "metadata": {
        "id": "8IgQhYqzj70B"
      },
      "execution_count": 6,
      "outputs": []
    },
    {
      "cell_type": "code",
      "source": [
        "data_train.info()"
      ],
      "metadata": {
        "colab": {
          "base_uri": "https://localhost:8080/"
        },
        "id": "eMAC9rW-kX2h",
        "outputId": "23b8d1fd-bd38-4919-a599-15acdd5be768"
      },
      "execution_count": 7,
      "outputs": [
        {
          "output_type": "stream",
          "name": "stdout",
          "text": [
            "<class 'pandas.core.frame.DataFrame'>\n",
            "RangeIndex: 1296675 entries, 0 to 1296674\n",
            "Data columns (total 23 columns):\n",
            " #   Column                 Non-Null Count    Dtype  \n",
            "---  ------                 --------------    -----  \n",
            " 0   Unnamed: 0             1296675 non-null  int64  \n",
            " 1   trans_date_trans_time  1296675 non-null  object \n",
            " 2   cc_num                 1296675 non-null  int64  \n",
            " 3   merchant               1296675 non-null  object \n",
            " 4   category               1296675 non-null  object \n",
            " 5   amt                    1296675 non-null  float64\n",
            " 6   first                  1296675 non-null  object \n",
            " 7   last                   1296675 non-null  object \n",
            " 8   gender                 1296675 non-null  object \n",
            " 9   street                 1296675 non-null  object \n",
            " 10  city                   1296675 non-null  object \n",
            " 11  state                  1296675 non-null  object \n",
            " 12  zip                    1296675 non-null  int64  \n",
            " 13  lat                    1296675 non-null  float64\n",
            " 14  long                   1296675 non-null  float64\n",
            " 15  city_pop               1296675 non-null  int64  \n",
            " 16  job                    1296675 non-null  object \n",
            " 17  dob                    1296675 non-null  object \n",
            " 18  trans_num              1296675 non-null  object \n",
            " 19  unix_time              1296675 non-null  int64  \n",
            " 20  merch_lat              1296675 non-null  float64\n",
            " 21  merch_long             1296675 non-null  float64\n",
            " 22  is_fraud               1296675 non-null  int64  \n",
            "dtypes: float64(5), int64(6), object(12)\n",
            "memory usage: 227.5+ MB\n"
          ]
        }
      ]
    },
    {
      "cell_type": "code",
      "source": [
        "print(data_train.shape,data_test.shape)"
      ],
      "metadata": {
        "colab": {
          "base_uri": "https://localhost:8080/"
        },
        "id": "x_rAo5zrkiY_",
        "outputId": "72a39663-17a4-4bd6-bbd5-c70e6c6f417a"
      },
      "execution_count": 8,
      "outputs": [
        {
          "output_type": "stream",
          "name": "stdout",
          "text": [
            "(1296675, 23) (555719, 23)\n"
          ]
        }
      ]
    },
    {
      "cell_type": "code",
      "source": [
        "# taking smaller sample to run the model faster\n",
        "\n",
        "df_train= data_train.sample(frac = 0.1,random_state=1)\n",
        "df_test= data_test.sample(frac = 0.05,random_state=1)\n",
        "print(df_train.shape,df_test.shape)\n",
        "df_train.head(10)"
      ],
      "metadata": {
        "colab": {
          "base_uri": "https://localhost:8080/",
          "height": 942
        },
        "id": "OY8xXpvpkm8O",
        "outputId": "02cd73dd-bb53-40b9-a10d-bf2bb5f0b9d5"
      },
      "execution_count": 9,
      "outputs": [
        {
          "output_type": "stream",
          "name": "stdout",
          "text": [
            "(129668, 23) (27786, 23)\n"
          ]
        },
        {
          "output_type": "execute_result",
          "data": {
            "text/plain": [
              "         Unnamed: 0 trans_date_trans_time               cc_num  \\\n",
              "94102         94102   2019-02-25 08:24:40      374497717543058   \n",
              "198791       198791   2019-04-12 19:50:15     4428154703770710   \n",
              "1238587     1238587   2020-05-31 21:50:53      213148039875802   \n",
              "619078       619078   2019-09-20 17:06:52     2283743876903625   \n",
              "573850       573850   2019-08-31 23:22:50  4798937978667559470   \n",
              "1201872     1201872   2020-05-17 18:21:17     6538891242532018   \n",
              "61984         61984   2019-02-05 21:47:54     4998109455173950   \n",
              "552029       552029   2019-08-24 11:59:19          60422928733   \n",
              "1079425     1079425   2020-03-24 06:07:24      377264520876399   \n",
              "681734       681734   2019-10-18 03:41:04     4070511711385545   \n",
              "\n",
              "                                     merchant        category     amt  \\\n",
              "94102                        fraud_Funk Group     grocery_net   20.00   \n",
              "198791    fraud_Prosacco, Kreiger and Kovacek            home  284.88   \n",
              "1238587  fraud_Langworth, Boehm and Gulgowski    shopping_net    5.07   \n",
              "619078                     fraud_Conroy-Emard     food_dining   45.38   \n",
              "573850                    fraud_Adams-Barrows  health_fitness   27.52   \n",
              "1201872                     fraud_Effertz LLC   entertainment  131.75   \n",
              "61984                    fraud_Morissette LLC   entertainment  146.69   \n",
              "552029                     fraud_Wiegand-Lowe     grocery_net   74.27   \n",
              "1079425                    fraud_Harris Group     food_dining   11.22   \n",
              "681734                       fraud_Dach-Nader        misc_net    3.96   \n",
              "\n",
              "             first       last gender                            street  ...  \\\n",
              "94102        Linda      Hurst      F     31701 Tucker Square Suite 893  ...   \n",
              "198791    Brittany     Guerra      F                   79209 Gary Dale  ...   \n",
              "1238587       Jill     Jacobs      F            034 Kimberly Mountains  ...   \n",
              "619078     Shannon   Williams      F  9345 Spencer Junctions Suite 183  ...   \n",
              "573850      Robert   Williams      M                09419 Lewis Rapids  ...   \n",
              "1201872       Jodi  Rodriguez      F           5796 Lee Coves Apt. 286  ...   \n",
              "61984         Mary     Pruitt      F        2819 Luke Greens Suite 563  ...   \n",
              "552029     Jeffrey     Powers      M       38352 Parrish Road Apt. 652  ...   \n",
              "1079425       Kara      Miles      F       2076 Thomas Roads Suite 970  ...   \n",
              "681734   Stephanie    Hopkins      F   44089 Carrie Crossing Suite 954  ...   \n",
              "\n",
              "             lat      long  city_pop                                    job  \\\n",
              "94102    47.1709 -100.7944      1190             Designer, ceramics/pottery   \n",
              "198791   46.5901 -117.1692       761                Chief Marketing Officer   \n",
              "1238587  27.9551  -82.2966     79613               Environmental consultant   \n",
              "619078   34.0770  -84.3033    165556                         Prison officer   \n",
              "573850   43.6088  -83.9530     67858                Water quality scientist   \n",
              "1201872  36.0244  -90.9288      7155  Engineer, control and instrumentation   \n",
              "61984    38.9621  -94.5959    545147                             Counsellor   \n",
              "552029   33.6028  -81.9748     46944               Secondary school teacher   \n",
              "1079425  34.3424  -80.5000      4424                                 Lawyer   \n",
              "681734   28.9814  -98.0156      2435                       Engineer, mining   \n",
              "\n",
              "                dob                         trans_num   unix_time  merch_lat  \\\n",
              "94102    1948-06-30  1595dec12f6f19ceaae9b7df0f8af5c0  1330158280  46.398331   \n",
              "198791   1943-06-30  0ed26b649ed0fce94d8e632b7208dea0  1334260215  45.687331   \n",
              "1238587  1978-11-30  7096316ec1a4b261e8613013827abae7  1370037053  27.254081   \n",
              "619078   1997-12-27  d02c35d7bda19c3da84b6d01f02da7e8  1348160812  34.551957   \n",
              "573850   1995-03-13  dccf059d9fdc15f1fb9d2abb50e7314b  1346455370  43.032957   \n",
              "1201872  1977-03-23  4e700b0737fbfe948c3af0af594a964e  1368814877  35.068173   \n",
              "61984    1987-11-18  dd7ea05d67a0ff509e3d0fb1fdfe7f38  1328478474  38.229734   \n",
              "552029   1942-04-02  214d540bdca14cdeb5eb347784d44f0c  1345809559  34.230048   \n",
              "1079425  1961-07-31  e7370494e1d3171f0ce1a5bdbae071f4  1364105244  33.700800   \n",
              "681734   1967-04-09  e2f08d1f890af7c6f4d3dfb6cc90a18a  1350531664  29.905143   \n",
              "\n",
              "         merch_long  is_fraud  \n",
              "94102    -99.813959         0  \n",
              "198791  -117.488135         0  \n",
              "1238587  -81.974799         0  \n",
              "619078   -83.374265         0  \n",
              "573850   -83.521294         0  \n",
              "1201872  -90.274482         0  \n",
              "61984    -94.197224         0  \n",
              "552029   -82.674878         0  \n",
              "1079425  -80.342778         0  \n",
              "681734   -98.185725         0  \n",
              "\n",
              "[10 rows x 23 columns]"
            ],
            "text/html": [
              "\n",
              "  <div id=\"df-05a28ce7-42bd-4672-a6b4-eaa723095e79\">\n",
              "    <div class=\"colab-df-container\">\n",
              "      <div>\n",
              "<style scoped>\n",
              "    .dataframe tbody tr th:only-of-type {\n",
              "        vertical-align: middle;\n",
              "    }\n",
              "\n",
              "    .dataframe tbody tr th {\n",
              "        vertical-align: top;\n",
              "    }\n",
              "\n",
              "    .dataframe thead th {\n",
              "        text-align: right;\n",
              "    }\n",
              "</style>\n",
              "<table border=\"1\" class=\"dataframe\">\n",
              "  <thead>\n",
              "    <tr style=\"text-align: right;\">\n",
              "      <th></th>\n",
              "      <th>Unnamed: 0</th>\n",
              "      <th>trans_date_trans_time</th>\n",
              "      <th>cc_num</th>\n",
              "      <th>merchant</th>\n",
              "      <th>category</th>\n",
              "      <th>amt</th>\n",
              "      <th>first</th>\n",
              "      <th>last</th>\n",
              "      <th>gender</th>\n",
              "      <th>street</th>\n",
              "      <th>...</th>\n",
              "      <th>lat</th>\n",
              "      <th>long</th>\n",
              "      <th>city_pop</th>\n",
              "      <th>job</th>\n",
              "      <th>dob</th>\n",
              "      <th>trans_num</th>\n",
              "      <th>unix_time</th>\n",
              "      <th>merch_lat</th>\n",
              "      <th>merch_long</th>\n",
              "      <th>is_fraud</th>\n",
              "    </tr>\n",
              "  </thead>\n",
              "  <tbody>\n",
              "    <tr>\n",
              "      <th>94102</th>\n",
              "      <td>94102</td>\n",
              "      <td>2019-02-25 08:24:40</td>\n",
              "      <td>374497717543058</td>\n",
              "      <td>fraud_Funk Group</td>\n",
              "      <td>grocery_net</td>\n",
              "      <td>20.00</td>\n",
              "      <td>Linda</td>\n",
              "      <td>Hurst</td>\n",
              "      <td>F</td>\n",
              "      <td>31701 Tucker Square Suite 893</td>\n",
              "      <td>...</td>\n",
              "      <td>47.1709</td>\n",
              "      <td>-100.7944</td>\n",
              "      <td>1190</td>\n",
              "      <td>Designer, ceramics/pottery</td>\n",
              "      <td>1948-06-30</td>\n",
              "      <td>1595dec12f6f19ceaae9b7df0f8af5c0</td>\n",
              "      <td>1330158280</td>\n",
              "      <td>46.398331</td>\n",
              "      <td>-99.813959</td>\n",
              "      <td>0</td>\n",
              "    </tr>\n",
              "    <tr>\n",
              "      <th>198791</th>\n",
              "      <td>198791</td>\n",
              "      <td>2019-04-12 19:50:15</td>\n",
              "      <td>4428154703770710</td>\n",
              "      <td>fraud_Prosacco, Kreiger and Kovacek</td>\n",
              "      <td>home</td>\n",
              "      <td>284.88</td>\n",
              "      <td>Brittany</td>\n",
              "      <td>Guerra</td>\n",
              "      <td>F</td>\n",
              "      <td>79209 Gary Dale</td>\n",
              "      <td>...</td>\n",
              "      <td>46.5901</td>\n",
              "      <td>-117.1692</td>\n",
              "      <td>761</td>\n",
              "      <td>Chief Marketing Officer</td>\n",
              "      <td>1943-06-30</td>\n",
              "      <td>0ed26b649ed0fce94d8e632b7208dea0</td>\n",
              "      <td>1334260215</td>\n",
              "      <td>45.687331</td>\n",
              "      <td>-117.488135</td>\n",
              "      <td>0</td>\n",
              "    </tr>\n",
              "    <tr>\n",
              "      <th>1238587</th>\n",
              "      <td>1238587</td>\n",
              "      <td>2020-05-31 21:50:53</td>\n",
              "      <td>213148039875802</td>\n",
              "      <td>fraud_Langworth, Boehm and Gulgowski</td>\n",
              "      <td>shopping_net</td>\n",
              "      <td>5.07</td>\n",
              "      <td>Jill</td>\n",
              "      <td>Jacobs</td>\n",
              "      <td>F</td>\n",
              "      <td>034 Kimberly Mountains</td>\n",
              "      <td>...</td>\n",
              "      <td>27.9551</td>\n",
              "      <td>-82.2966</td>\n",
              "      <td>79613</td>\n",
              "      <td>Environmental consultant</td>\n",
              "      <td>1978-11-30</td>\n",
              "      <td>7096316ec1a4b261e8613013827abae7</td>\n",
              "      <td>1370037053</td>\n",
              "      <td>27.254081</td>\n",
              "      <td>-81.974799</td>\n",
              "      <td>0</td>\n",
              "    </tr>\n",
              "    <tr>\n",
              "      <th>619078</th>\n",
              "      <td>619078</td>\n",
              "      <td>2019-09-20 17:06:52</td>\n",
              "      <td>2283743876903625</td>\n",
              "      <td>fraud_Conroy-Emard</td>\n",
              "      <td>food_dining</td>\n",
              "      <td>45.38</td>\n",
              "      <td>Shannon</td>\n",
              "      <td>Williams</td>\n",
              "      <td>F</td>\n",
              "      <td>9345 Spencer Junctions Suite 183</td>\n",
              "      <td>...</td>\n",
              "      <td>34.0770</td>\n",
              "      <td>-84.3033</td>\n",
              "      <td>165556</td>\n",
              "      <td>Prison officer</td>\n",
              "      <td>1997-12-27</td>\n",
              "      <td>d02c35d7bda19c3da84b6d01f02da7e8</td>\n",
              "      <td>1348160812</td>\n",
              "      <td>34.551957</td>\n",
              "      <td>-83.374265</td>\n",
              "      <td>0</td>\n",
              "    </tr>\n",
              "    <tr>\n",
              "      <th>573850</th>\n",
              "      <td>573850</td>\n",
              "      <td>2019-08-31 23:22:50</td>\n",
              "      <td>4798937978667559470</td>\n",
              "      <td>fraud_Adams-Barrows</td>\n",
              "      <td>health_fitness</td>\n",
              "      <td>27.52</td>\n",
              "      <td>Robert</td>\n",
              "      <td>Williams</td>\n",
              "      <td>M</td>\n",
              "      <td>09419 Lewis Rapids</td>\n",
              "      <td>...</td>\n",
              "      <td>43.6088</td>\n",
              "      <td>-83.9530</td>\n",
              "      <td>67858</td>\n",
              "      <td>Water quality scientist</td>\n",
              "      <td>1995-03-13</td>\n",
              "      <td>dccf059d9fdc15f1fb9d2abb50e7314b</td>\n",
              "      <td>1346455370</td>\n",
              "      <td>43.032957</td>\n",
              "      <td>-83.521294</td>\n",
              "      <td>0</td>\n",
              "    </tr>\n",
              "    <tr>\n",
              "      <th>1201872</th>\n",
              "      <td>1201872</td>\n",
              "      <td>2020-05-17 18:21:17</td>\n",
              "      <td>6538891242532018</td>\n",
              "      <td>fraud_Effertz LLC</td>\n",
              "      <td>entertainment</td>\n",
              "      <td>131.75</td>\n",
              "      <td>Jodi</td>\n",
              "      <td>Rodriguez</td>\n",
              "      <td>F</td>\n",
              "      <td>5796 Lee Coves Apt. 286</td>\n",
              "      <td>...</td>\n",
              "      <td>36.0244</td>\n",
              "      <td>-90.9288</td>\n",
              "      <td>7155</td>\n",
              "      <td>Engineer, control and instrumentation</td>\n",
              "      <td>1977-03-23</td>\n",
              "      <td>4e700b0737fbfe948c3af0af594a964e</td>\n",
              "      <td>1368814877</td>\n",
              "      <td>35.068173</td>\n",
              "      <td>-90.274482</td>\n",
              "      <td>0</td>\n",
              "    </tr>\n",
              "    <tr>\n",
              "      <th>61984</th>\n",
              "      <td>61984</td>\n",
              "      <td>2019-02-05 21:47:54</td>\n",
              "      <td>4998109455173950</td>\n",
              "      <td>fraud_Morissette LLC</td>\n",
              "      <td>entertainment</td>\n",
              "      <td>146.69</td>\n",
              "      <td>Mary</td>\n",
              "      <td>Pruitt</td>\n",
              "      <td>F</td>\n",
              "      <td>2819 Luke Greens Suite 563</td>\n",
              "      <td>...</td>\n",
              "      <td>38.9621</td>\n",
              "      <td>-94.5959</td>\n",
              "      <td>545147</td>\n",
              "      <td>Counsellor</td>\n",
              "      <td>1987-11-18</td>\n",
              "      <td>dd7ea05d67a0ff509e3d0fb1fdfe7f38</td>\n",
              "      <td>1328478474</td>\n",
              "      <td>38.229734</td>\n",
              "      <td>-94.197224</td>\n",
              "      <td>0</td>\n",
              "    </tr>\n",
              "    <tr>\n",
              "      <th>552029</th>\n",
              "      <td>552029</td>\n",
              "      <td>2019-08-24 11:59:19</td>\n",
              "      <td>60422928733</td>\n",
              "      <td>fraud_Wiegand-Lowe</td>\n",
              "      <td>grocery_net</td>\n",
              "      <td>74.27</td>\n",
              "      <td>Jeffrey</td>\n",
              "      <td>Powers</td>\n",
              "      <td>M</td>\n",
              "      <td>38352 Parrish Road Apt. 652</td>\n",
              "      <td>...</td>\n",
              "      <td>33.6028</td>\n",
              "      <td>-81.9748</td>\n",
              "      <td>46944</td>\n",
              "      <td>Secondary school teacher</td>\n",
              "      <td>1942-04-02</td>\n",
              "      <td>214d540bdca14cdeb5eb347784d44f0c</td>\n",
              "      <td>1345809559</td>\n",
              "      <td>34.230048</td>\n",
              "      <td>-82.674878</td>\n",
              "      <td>0</td>\n",
              "    </tr>\n",
              "    <tr>\n",
              "      <th>1079425</th>\n",
              "      <td>1079425</td>\n",
              "      <td>2020-03-24 06:07:24</td>\n",
              "      <td>377264520876399</td>\n",
              "      <td>fraud_Harris Group</td>\n",
              "      <td>food_dining</td>\n",
              "      <td>11.22</td>\n",
              "      <td>Kara</td>\n",
              "      <td>Miles</td>\n",
              "      <td>F</td>\n",
              "      <td>2076 Thomas Roads Suite 970</td>\n",
              "      <td>...</td>\n",
              "      <td>34.3424</td>\n",
              "      <td>-80.5000</td>\n",
              "      <td>4424</td>\n",
              "      <td>Lawyer</td>\n",
              "      <td>1961-07-31</td>\n",
              "      <td>e7370494e1d3171f0ce1a5bdbae071f4</td>\n",
              "      <td>1364105244</td>\n",
              "      <td>33.700800</td>\n",
              "      <td>-80.342778</td>\n",
              "      <td>0</td>\n",
              "    </tr>\n",
              "    <tr>\n",
              "      <th>681734</th>\n",
              "      <td>681734</td>\n",
              "      <td>2019-10-18 03:41:04</td>\n",
              "      <td>4070511711385545</td>\n",
              "      <td>fraud_Dach-Nader</td>\n",
              "      <td>misc_net</td>\n",
              "      <td>3.96</td>\n",
              "      <td>Stephanie</td>\n",
              "      <td>Hopkins</td>\n",
              "      <td>F</td>\n",
              "      <td>44089 Carrie Crossing Suite 954</td>\n",
              "      <td>...</td>\n",
              "      <td>28.9814</td>\n",
              "      <td>-98.0156</td>\n",
              "      <td>2435</td>\n",
              "      <td>Engineer, mining</td>\n",
              "      <td>1967-04-09</td>\n",
              "      <td>e2f08d1f890af7c6f4d3dfb6cc90a18a</td>\n",
              "      <td>1350531664</td>\n",
              "      <td>29.905143</td>\n",
              "      <td>-98.185725</td>\n",
              "      <td>0</td>\n",
              "    </tr>\n",
              "  </tbody>\n",
              "</table>\n",
              "<p>10 rows × 23 columns</p>\n",
              "</div>\n",
              "      <button class=\"colab-df-convert\" onclick=\"convertToInteractive('df-05a28ce7-42bd-4672-a6b4-eaa723095e79')\"\n",
              "              title=\"Convert this dataframe to an interactive table.\"\n",
              "              style=\"display:none;\">\n",
              "        \n",
              "  <svg xmlns=\"http://www.w3.org/2000/svg\" height=\"24px\"viewBox=\"0 0 24 24\"\n",
              "       width=\"24px\">\n",
              "    <path d=\"M0 0h24v24H0V0z\" fill=\"none\"/>\n",
              "    <path d=\"M18.56 5.44l.94 2.06.94-2.06 2.06-.94-2.06-.94-.94-2.06-.94 2.06-2.06.94zm-11 1L8.5 8.5l.94-2.06 2.06-.94-2.06-.94L8.5 2.5l-.94 2.06-2.06.94zm10 10l.94 2.06.94-2.06 2.06-.94-2.06-.94-.94-2.06-.94 2.06-2.06.94z\"/><path d=\"M17.41 7.96l-1.37-1.37c-.4-.4-.92-.59-1.43-.59-.52 0-1.04.2-1.43.59L10.3 9.45l-7.72 7.72c-.78.78-.78 2.05 0 2.83L4 21.41c.39.39.9.59 1.41.59.51 0 1.02-.2 1.41-.59l7.78-7.78 2.81-2.81c.8-.78.8-2.07 0-2.86zM5.41 20L4 18.59l7.72-7.72 1.47 1.35L5.41 20z\"/>\n",
              "  </svg>\n",
              "      </button>\n",
              "      \n",
              "  <style>\n",
              "    .colab-df-container {\n",
              "      display:flex;\n",
              "      flex-wrap:wrap;\n",
              "      gap: 12px;\n",
              "    }\n",
              "\n",
              "    .colab-df-convert {\n",
              "      background-color: #E8F0FE;\n",
              "      border: none;\n",
              "      border-radius: 50%;\n",
              "      cursor: pointer;\n",
              "      display: none;\n",
              "      fill: #1967D2;\n",
              "      height: 32px;\n",
              "      padding: 0 0 0 0;\n",
              "      width: 32px;\n",
              "    }\n",
              "\n",
              "    .colab-df-convert:hover {\n",
              "      background-color: #E2EBFA;\n",
              "      box-shadow: 0px 1px 2px rgba(60, 64, 67, 0.3), 0px 1px 3px 1px rgba(60, 64, 67, 0.15);\n",
              "      fill: #174EA6;\n",
              "    }\n",
              "\n",
              "    [theme=dark] .colab-df-convert {\n",
              "      background-color: #3B4455;\n",
              "      fill: #D2E3FC;\n",
              "    }\n",
              "\n",
              "    [theme=dark] .colab-df-convert:hover {\n",
              "      background-color: #434B5C;\n",
              "      box-shadow: 0px 1px 3px 1px rgba(0, 0, 0, 0.15);\n",
              "      filter: drop-shadow(0px 1px 2px rgba(0, 0, 0, 0.3));\n",
              "      fill: #FFFFFF;\n",
              "    }\n",
              "  </style>\n",
              "\n",
              "      <script>\n",
              "        const buttonEl =\n",
              "          document.querySelector('#df-05a28ce7-42bd-4672-a6b4-eaa723095e79 button.colab-df-convert');\n",
              "        buttonEl.style.display =\n",
              "          google.colab.kernel.accessAllowed ? 'block' : 'none';\n",
              "\n",
              "        async function convertToInteractive(key) {\n",
              "          const element = document.querySelector('#df-05a28ce7-42bd-4672-a6b4-eaa723095e79');\n",
              "          const dataTable =\n",
              "            await google.colab.kernel.invokeFunction('convertToInteractive',\n",
              "                                                     [key], {});\n",
              "          if (!dataTable) return;\n",
              "\n",
              "          const docLinkHtml = 'Like what you see? Visit the ' +\n",
              "            '<a target=\"_blank\" href=https://colab.research.google.com/notebooks/data_table.ipynb>data table notebook</a>'\n",
              "            + ' to learn more about interactive tables.';\n",
              "          element.innerHTML = '';\n",
              "          dataTable['output_type'] = 'display_data';\n",
              "          await google.colab.output.renderOutput(dataTable, element);\n",
              "          const docLink = document.createElement('div');\n",
              "          docLink.innerHTML = docLinkHtml;\n",
              "          element.appendChild(docLink);\n",
              "        }\n",
              "      </script>\n",
              "    </div>\n",
              "  </div>\n",
              "  "
            ]
          },
          "metadata": {},
          "execution_count": 9
        }
      ]
    },
    {
      "cell_type": "code",
      "source": [
        "df_train.isnull().sum()"
      ],
      "metadata": {
        "colab": {
          "base_uri": "https://localhost:8080/"
        },
        "id": "1BH3LWFpk0Nw",
        "outputId": "13e20d78-3abe-4652-fddb-cea26120fc59"
      },
      "execution_count": 10,
      "outputs": [
        {
          "output_type": "execute_result",
          "data": {
            "text/plain": [
              "Unnamed: 0               0\n",
              "trans_date_trans_time    0\n",
              "cc_num                   0\n",
              "merchant                 0\n",
              "category                 0\n",
              "amt                      0\n",
              "first                    0\n",
              "last                     0\n",
              "gender                   0\n",
              "street                   0\n",
              "city                     0\n",
              "state                    0\n",
              "zip                      0\n",
              "lat                      0\n",
              "long                     0\n",
              "city_pop                 0\n",
              "job                      0\n",
              "dob                      0\n",
              "trans_num                0\n",
              "unix_time                0\n",
              "merch_lat                0\n",
              "merch_long               0\n",
              "is_fraud                 0\n",
              "dtype: int64"
            ]
          },
          "metadata": {},
          "execution_count": 10
        }
      ]
    },
    {
      "cell_type": "code",
      "source": [
        "#visual representation of the data using histograms \n",
        "df_train.hist(figsize = (10, 10))\n",
        "plt.show()"
      ],
      "metadata": {
        "colab": {
          "base_uri": "https://localhost:8080/",
          "height": 607
        },
        "id": "FSLgGJW-mb9W",
        "outputId": "f622b17a-eecb-4812-e8ab-def0d5762389"
      },
      "execution_count": 11,
      "outputs": [
        {
          "output_type": "display_data",
          "data": {
            "text/plain": [
              "<Figure size 720x720 with 12 Axes>"
            ],
            "image/png": "[encoded data removed]"
          },
          "metadata": {
            "needs_background": "light"
          }
        }
      ]
    },
    {
      "cell_type": "code",
      "source": [
        "# plotting the classes\n",
        "plt.figure(figsize=(5,5))\n",
        "count_classes = pd.value_counts(df_train['is_fraud'], sort = True)\n",
        "count_classes.plot(kind = 'bar', rot=0)\n",
        "plt.title(\"Transaction Class Distribution\")\n",
        "LABELS = ['Normal','Fraud']\n",
        "plt.xticks(range(2), LABELS)\n",
        "plt.xlabel(\"Class of transaction\")\n",
        "plt.ylabel(\"Frequency\")"
      ],
      "metadata": {
        "colab": {
          "base_uri": "https://localhost:8080/",
          "height": 367
        },
        "id": "FfqxGBmbm9Aq",
        "outputId": "ef73fac4-cf94-4a24-ff50-14bf4274a81c"
      },
      "execution_count": 12,
      "outputs": [
        {
          "output_type": "execute_result",
          "data": {
            "text/plain": [
              "Text(0, 0.5, 'Frequency')"
            ]
          },
          "metadata": {},
          "execution_count": 12
        },
        {
          "output_type": "display_data",
          "data": {
            "text/plain": [
              "<Figure size 360x360 with 1 Axes>"
            ],
            "image/png": "[encoded data removed]"
          },
          "metadata": {
            "needs_background": "light"
          }
        }
      ]
    },
    {
      "cell_type": "code",
      "source": [
        "sns.relplot(y = 'unix_time', x = 'amt' , hue = 'is_fraud',data = df_train)"
      ],
      "metadata": {
        "colab": {
          "base_uri": "https://localhost:8080/",
          "height": 386
        },
        "id": "Y3t56kj4nK74",
        "outputId": "01b574d9-7494-47c3-bc48-f039d34f3275"
      },
      "execution_count": 13,
      "outputs": [
        {
          "output_type": "execute_result",
          "data": {
            "text/plain": [
              "<seaborn.axisgrid.FacetGrid at 0x7ffba3cc5710>"
            ]
          },
          "metadata": {},
          "execution_count": 13
        },
        {
          "output_type": "display_data",
          "data": {
            "text/plain": [
              "<Figure size 407.75x360 with 1 Axes>"
            ],
            "image/png": "[encoded data removed]"
          },
          "metadata": {
            "needs_background": "light"
          }
        }
      ]
    },
    {
      "cell_type": "code",
      "source": [
        "# function to drop tbe columns\n",
        "def dropCol(data):\n",
        "    col_to_drop = ['trans_date_trans_time','Unnamed: 0','cc_num','first','last','trans_num']\n",
        "    res = data.drop(col_to_drop,axis = 1)\n",
        "    return res"
      ],
      "metadata": {
        "id": "2hXRJ1WFneMW"
      },
      "execution_count": 14,
      "outputs": []
    },
    {
      "cell_type": "code",
      "source": [
        "# dropping the columns\n",
        "# dropping the columns ['trans_date_trans_time','Unnamed: 0','cc_num','first','last','trans_num']\n",
        "# train data set\n",
        "df_train = dropCol(df_train)\n",
        "# test data set\n",
        "df_test = dropCol(df_test)\n",
        "\n",
        "print ( df_train.shape, df_test.shape)"
      ],
      "metadata": {
        "colab": {
          "base_uri": "https://localhost:8080/"
        },
        "id": "rc7oO_xmnlqG",
        "outputId": "051354f5-0b96-4e34-a63d-512a64dada59"
      },
      "execution_count": 15,
      "outputs": [
        {
          "output_type": "stream",
          "name": "stdout",
          "text": [
            "(129668, 17) (27786, 17)\n"
          ]
        }
      ]
    },
    {
      "cell_type": "code",
      "source": [
        "#Create independent and Dependent Features\n",
        "columns = df_train.columns.tolist()\n",
        "\n",
        "# removing the dependent feature is_fraud\n",
        "columns = [c for c in columns if c not in [\"is_fraud\"]]\n",
        "\n",
        "X_train = df_train[columns]\n",
        "Y_train = df_train['is_fraud']\n",
        "X_test = df_test[columns]\n",
        "Y_test = df_test['is_fraud']\n",
        "print ( X_train.shape, Y_train.shape,X_test.shape, Y_test.shape)"
      ],
      "metadata": {
        "colab": {
          "base_uri": "https://localhost:8080/"
        },
        "id": "AMUH6JIQnsLo",
        "outputId": "8cb40959-15de-44f7-a2da-578d7550a045"
      },
      "execution_count": 16,
      "outputs": [
        {
          "output_type": "stream",
          "name": "stdout",
          "text": [
            "(129668, 16) (129668,) (27786, 16) (27786,)\n"
          ]
        }
      ]
    },
    {
      "cell_type": "code",
      "source": [
        "# function to convert dob to years\n",
        "def age_years(born):\n",
        "    return 2019 - int(born[0:4])\n",
        "\n",
        "# function to convert dob to years\n",
        "def age_years(born):\n",
        "    return 2019 - int(born[0:4])\n",
        "\n",
        "# replacing the dob column with age column in our data set for test and train\n",
        "X_train['age'] = X_train['dob'].apply(lambda x: age_years(x))\n",
        "X_train = X_train.drop(['dob'],axis =1)\n",
        "\n",
        "X_test['age'] = X_test['dob'].apply(lambda x: age_years(x))\n",
        "X_test = X_test.drop(['dob'],axis =1)\n",
        "print(X_train.shape,X_test.shape)\n",
        "\n"
      ],
      "metadata": {
        "colab": {
          "base_uri": "https://localhost:8080/",
          "height": 380
        },
        "id": "8r9JuCfonvvw",
        "outputId": "88e02541-b74a-4aa5-ebdf-8300040eca36"
      },
      "execution_count": 17,
      "outputs": [
        {
          "output_type": "error",
          "ename": "ValueError",
          "evalue": "ignored",
          "traceback": [
            "\u001b[0;31m---------------------------------------------------------------------------\u001b[0m",
            "\u001b[0;31mValueError\u001b[0m                                Traceback (most recent call last)",
            "\u001b[0;32m<ipython-input-17-9ccf8a26876f>\u001b[0m in \u001b[0;36m<module>\u001b[0;34m()\u001b[0m\n\u001b[1;32m     11\u001b[0m \u001b[0mX_train\u001b[0m \u001b[0;34m=\u001b[0m \u001b[0mX_train\u001b[0m\u001b[0;34m.\u001b[0m\u001b[0mdrop\u001b[0m\u001b[0;34m(\u001b[0m\u001b[0;34m[\u001b[0m\u001b[0;34m'dob'\u001b[0m\u001b[0;34m]\u001b[0m\u001b[0;34m,\u001b[0m\u001b[0maxis\u001b[0m \u001b[0;34m=\u001b[0m\u001b[0;36m1\u001b[0m\u001b[0;34m)\u001b[0m\u001b[0;34m\u001b[0m\u001b[0;34m\u001b[0m\u001b[0m\n\u001b[1;32m     12\u001b[0m \u001b[0;34m\u001b[0m\u001b[0m\n\u001b[0;32m---> 13\u001b[0;31m \u001b[0mX_test\u001b[0m\u001b[0;34m[\u001b[0m\u001b[0;34m'age'\u001b[0m\u001b[0;34m]\u001b[0m \u001b[0;34m=\u001b[0m \u001b[0mX_test\u001b[0m\u001b[0;34m[\u001b[0m\u001b[0;34m'dob'\u001b[0m\u001b[0;34m]\u001b[0m\u001b[0;34m.\u001b[0m\u001b[0mapply\u001b[0m\u001b[0;34m(\u001b[0m\u001b[0;32mlambda\u001b[0m \u001b[0mx\u001b[0m\u001b[0;34m:\u001b[0m \u001b[0mage_years\u001b[0m\u001b[0;34m(\u001b[0m\u001b[0mx\u001b[0m\u001b[0;34m)\u001b[0m\u001b[0;34m)\u001b[0m\u001b[0;34m\u001b[0m\u001b[0;34m\u001b[0m\u001b[0m\n\u001b[0m\u001b[1;32m     14\u001b[0m \u001b[0mX_test\u001b[0m \u001b[0;34m=\u001b[0m \u001b[0mX_test\u001b[0m\u001b[0;34m.\u001b[0m\u001b[0mdrop\u001b[0m\u001b[0;34m(\u001b[0m\u001b[0;34m[\u001b[0m\u001b[0;34m'dob'\u001b[0m\u001b[0;34m]\u001b[0m\u001b[0;34m,\u001b[0m\u001b[0maxis\u001b[0m \u001b[0;34m=\u001b[0m\u001b[0;36m1\u001b[0m\u001b[0;34m)\u001b[0m\u001b[0;34m\u001b[0m\u001b[0;34m\u001b[0m\u001b[0m\n\u001b[1;32m     15\u001b[0m \u001b[0mprint\u001b[0m\u001b[0;34m(\u001b[0m\u001b[0mX_train\u001b[0m\u001b[0;34m.\u001b[0m\u001b[0mshape\u001b[0m\u001b[0;34m,\u001b[0m\u001b[0mX_test\u001b[0m\u001b[0;34m.\u001b[0m\u001b[0mshape\u001b[0m\u001b[0;34m)\u001b[0m\u001b[0;34m\u001b[0m\u001b[0;34m\u001b[0m\u001b[0m\n",
            "\u001b[0;32m/usr/local/lib/python3.7/dist-packages/pandas/core/series.py\u001b[0m in \u001b[0;36mapply\u001b[0;34m(self, func, convert_dtype, args, **kwargs)\u001b[0m\n\u001b[1;32m   4355\u001b[0m         \u001b[0mdtype\u001b[0m\u001b[0;34m:\u001b[0m \u001b[0mfloat64\u001b[0m\u001b[0;34m\u001b[0m\u001b[0;34m\u001b[0m\u001b[0m\n\u001b[1;32m   4356\u001b[0m         \"\"\"\n\u001b[0;32m-> 4357\u001b[0;31m         \u001b[0;32mreturn\u001b[0m \u001b[0mSeriesApply\u001b[0m\u001b[0;34m(\u001b[0m\u001b[0mself\u001b[0m\u001b[0;34m,\u001b[0m \u001b[0mfunc\u001b[0m\u001b[0;34m,\u001b[0m \u001b[0mconvert_dtype\u001b[0m\u001b[0;34m,\u001b[0m \u001b[0margs\u001b[0m\u001b[0;34m,\u001b[0m \u001b[0mkwargs\u001b[0m\u001b[0;34m)\u001b[0m\u001b[0;34m.\u001b[0m\u001b[0mapply\u001b[0m\u001b[0;34m(\u001b[0m\u001b[0;34m)\u001b[0m\u001b[0;34m\u001b[0m\u001b[0;34m\u001b[0m\u001b[0m\n\u001b[0m\u001b[1;32m   4358\u001b[0m \u001b[0;34m\u001b[0m\u001b[0m\n\u001b[1;32m   4359\u001b[0m     def _reduce(\n",
            "\u001b[0;32m/usr/local/lib/python3.7/dist-packages/pandas/core/apply.py\u001b[0m in \u001b[0;36mapply\u001b[0;34m(self)\u001b[0m\n\u001b[1;32m   1041\u001b[0m             \u001b[0;32mreturn\u001b[0m \u001b[0mself\u001b[0m\u001b[0;34m.\u001b[0m\u001b[0mapply_str\u001b[0m\u001b[0;34m(\u001b[0m\u001b[0;34m)\u001b[0m\u001b[0;34m\u001b[0m\u001b[0;34m\u001b[0m\u001b[0m\n\u001b[1;32m   1042\u001b[0m \u001b[0;34m\u001b[0m\u001b[0m\n\u001b[0;32m-> 1043\u001b[0;31m         \u001b[0;32mreturn\u001b[0m \u001b[0mself\u001b[0m\u001b[0;34m.\u001b[0m\u001b[0mapply_standard\u001b[0m\u001b[0;34m(\u001b[0m\u001b[0;34m)\u001b[0m\u001b[0;34m\u001b[0m\u001b[0;34m\u001b[0m\u001b[0m\n\u001b[0m\u001b[1;32m   1044\u001b[0m \u001b[0;34m\u001b[0m\u001b[0m\n\u001b[1;32m   1045\u001b[0m     \u001b[0;32mdef\u001b[0m \u001b[0magg\u001b[0m\u001b[0;34m(\u001b[0m\u001b[0mself\u001b[0m\u001b[0;34m)\u001b[0m\u001b[0;34m:\u001b[0m\u001b[0;34m\u001b[0m\u001b[0;34m\u001b[0m\u001b[0m\n",
            "\u001b[0;32m/usr/local/lib/python3.7/dist-packages/pandas/core/apply.py\u001b[0m in \u001b[0;36mapply_standard\u001b[0;34m(self)\u001b[0m\n\u001b[1;32m   1099\u001b[0m                     \u001b[0mvalues\u001b[0m\u001b[0;34m,\u001b[0m\u001b[0;34m\u001b[0m\u001b[0;34m\u001b[0m\u001b[0m\n\u001b[1;32m   1100\u001b[0m                     \u001b[0mf\u001b[0m\u001b[0;34m,\u001b[0m  \u001b[0;31m# type: ignore[arg-type]\u001b[0m\u001b[0;34m\u001b[0m\u001b[0;34m\u001b[0m\u001b[0m\n\u001b[0;32m-> 1101\u001b[0;31m                     \u001b[0mconvert\u001b[0m\u001b[0;34m=\u001b[0m\u001b[0mself\u001b[0m\u001b[0;34m.\u001b[0m\u001b[0mconvert_dtype\u001b[0m\u001b[0;34m,\u001b[0m\u001b[0;34m\u001b[0m\u001b[0;34m\u001b[0m\u001b[0m\n\u001b[0m\u001b[1;32m   1102\u001b[0m                 )\n\u001b[1;32m   1103\u001b[0m \u001b[0;34m\u001b[0m\u001b[0m\n",
            "\u001b[0;32m/usr/local/lib/python3.7/dist-packages/pandas/_libs/lib.pyx\u001b[0m in \u001b[0;36mpandas._libs.lib.map_infer\u001b[0;34m()\u001b[0m\n",
            "\u001b[0;32m<ipython-input-17-9ccf8a26876f>\u001b[0m in \u001b[0;36m<lambda>\u001b[0;34m(x)\u001b[0m\n\u001b[1;32m     11\u001b[0m \u001b[0mX_train\u001b[0m \u001b[0;34m=\u001b[0m \u001b[0mX_train\u001b[0m\u001b[0;34m.\u001b[0m\u001b[0mdrop\u001b[0m\u001b[0;34m(\u001b[0m\u001b[0;34m[\u001b[0m\u001b[0;34m'dob'\u001b[0m\u001b[0;34m]\u001b[0m\u001b[0;34m,\u001b[0m\u001b[0maxis\u001b[0m \u001b[0;34m=\u001b[0m\u001b[0;36m1\u001b[0m\u001b[0;34m)\u001b[0m\u001b[0;34m\u001b[0m\u001b[0;34m\u001b[0m\u001b[0m\n\u001b[1;32m     12\u001b[0m \u001b[0;34m\u001b[0m\u001b[0m\n\u001b[0;32m---> 13\u001b[0;31m \u001b[0mX_test\u001b[0m\u001b[0;34m[\u001b[0m\u001b[0;34m'age'\u001b[0m\u001b[0;34m]\u001b[0m \u001b[0;34m=\u001b[0m \u001b[0mX_test\u001b[0m\u001b[0;34m[\u001b[0m\u001b[0;34m'dob'\u001b[0m\u001b[0;34m]\u001b[0m\u001b[0;34m.\u001b[0m\u001b[0mapply\u001b[0m\u001b[0;34m(\u001b[0m\u001b[0;32mlambda\u001b[0m \u001b[0mx\u001b[0m\u001b[0;34m:\u001b[0m \u001b[0mage_years\u001b[0m\u001b[0;34m(\u001b[0m\u001b[0mx\u001b[0m\u001b[0;34m)\u001b[0m\u001b[0;34m)\u001b[0m\u001b[0;34m\u001b[0m\u001b[0;34m\u001b[0m\u001b[0m\n\u001b[0m\u001b[1;32m     14\u001b[0m \u001b[0mX_test\u001b[0m \u001b[0;34m=\u001b[0m \u001b[0mX_test\u001b[0m\u001b[0;34m.\u001b[0m\u001b[0mdrop\u001b[0m\u001b[0;34m(\u001b[0m\u001b[0;34m[\u001b[0m\u001b[0;34m'dob'\u001b[0m\u001b[0;34m]\u001b[0m\u001b[0;34m,\u001b[0m\u001b[0maxis\u001b[0m \u001b[0;34m=\u001b[0m\u001b[0;36m1\u001b[0m\u001b[0;34m)\u001b[0m\u001b[0;34m\u001b[0m\u001b[0;34m\u001b[0m\u001b[0m\n\u001b[1;32m     15\u001b[0m \u001b[0mprint\u001b[0m\u001b[0;34m(\u001b[0m\u001b[0mX_train\u001b[0m\u001b[0;34m.\u001b[0m\u001b[0mshape\u001b[0m\u001b[0;34m,\u001b[0m\u001b[0mX_test\u001b[0m\u001b[0;34m.\u001b[0m\u001b[0mshape\u001b[0m\u001b[0;34m)\u001b[0m\u001b[0;34m\u001b[0m\u001b[0;34m\u001b[0m\u001b[0m\n",
            "\u001b[0;32m<ipython-input-17-9ccf8a26876f>\u001b[0m in \u001b[0;36mage_years\u001b[0;34m(born)\u001b[0m\n\u001b[1;32m      5\u001b[0m \u001b[0;31m# function to convert dob to years\u001b[0m\u001b[0;34m\u001b[0m\u001b[0;34m\u001b[0m\u001b[0;34m\u001b[0m\u001b[0m\n\u001b[1;32m      6\u001b[0m \u001b[0;32mdef\u001b[0m \u001b[0mage_years\u001b[0m\u001b[0;34m(\u001b[0m\u001b[0mborn\u001b[0m\u001b[0;34m)\u001b[0m\u001b[0;34m:\u001b[0m\u001b[0;34m\u001b[0m\u001b[0;34m\u001b[0m\u001b[0m\n\u001b[0;32m----> 7\u001b[0;31m     \u001b[0;32mreturn\u001b[0m \u001b[0;36m2019\u001b[0m \u001b[0;34m-\u001b[0m \u001b[0mint\u001b[0m\u001b[0;34m(\u001b[0m\u001b[0mborn\u001b[0m\u001b[0;34m[\u001b[0m\u001b[0;36m0\u001b[0m\u001b[0;34m:\u001b[0m\u001b[0;36m4\u001b[0m\u001b[0;34m]\u001b[0m\u001b[0;34m)\u001b[0m\u001b[0;34m\u001b[0m\u001b[0;34m\u001b[0m\u001b[0m\n\u001b[0m\u001b[1;32m      8\u001b[0m \u001b[0;34m\u001b[0m\u001b[0m\n\u001b[1;32m      9\u001b[0m \u001b[0;31m# replacing the dob column with age column in our data set for test and train\u001b[0m\u001b[0;34m\u001b[0m\u001b[0;34m\u001b[0m\u001b[0;34m\u001b[0m\u001b[0m\n",
            "\u001b[0;31mValueError\u001b[0m: invalid literal for int() with base 10: '5/3/'"
          ]
        }
      ]
    }
  ]
}