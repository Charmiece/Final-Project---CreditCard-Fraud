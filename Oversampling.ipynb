{
 "cells": [
  {
   "cell_type": "code",
   "execution_count": 1,
   "metadata": {
    "id": "IcmZH-hqMffA"
   },
   "outputs": [],
   "source": [
    "# importing the packages\n",
    "import datetime\n",
    "import warnings\n",
    "import numpy as np\n",
    "import pandas as pd\n",
    "import seaborn as sns\n",
    "from datetime import date\n",
    "import sklearn.exceptions\n",
    "from pylab import rcParams\n",
    "import matplotlib.pyplot as plt\n",
    "from sklearn import linear_model\n",
    "from sklearn.svm import OneClassSVM\n",
    "from imblearn.over_sampling import SMOTE\n",
    "from sklearn.ensemble import IsolationForest\n",
    "from imblearn.under_sampling import NearMiss \n",
    "from sklearn.metrics import confusion_matrix\n",
    "from sklearn.tree import DecisionTreeClassifier\n",
    "from sklearn.neighbors import LocalOutlierFactor\n",
    "from sklearn.metrics import plot_confusion_matrix\n",
    "from sklearn.linear_model import LogisticRegression\n",
    "from sklearn import datasets, metrics, preprocessing, svm\n",
    "from sklearn.metrics import precision_recall_fscore_support\n",
    "from sklearn.metrics import classification_report,accuracy_score\n",
    "warnings.filterwarnings(\"ignore\", category=sklearn.exceptions.UndefinedMetricWarning)\n",
    "from imblearn.metrics import classification_report_imbalanced\n",
    "from collections import Counter\n",
    "\n",
    "from sklearn.ensemble import RandomForestClassifier"
   ]
  },
  {
   "cell_type": "code",
   "execution_count": 2,
   "metadata": {
    "id": "9ybGqdvDMfXN"
   },
   "outputs": [],
   "source": [
    "# loading data\n",
    "clean_df = pd.read_csv(\"https://fraudcreditcard.s3.amazonaws.com/clean_data_train.csv\")"
   ]
  },
  {
   "cell_type": "code",
   "execution_count": 3,
   "metadata": {
    "colab": {
     "base_uri": "https://localhost:8080/"
    },
    "id": "wBTIYIGQMfKD",
    "outputId": "2eb28148-094e-4c55-82f4-5c14e9d5c14b"
   },
   "outputs": [
    {
     "name": "stdout",
     "output_type": "stream",
     "text": [
      "<class 'pandas.core.frame.DataFrame'>\n",
      "RangeIndex: 1296675 entries, 0 to 1296674\n",
      "Data columns (total 9 columns):\n",
      " #   Column      Non-Null Count    Dtype  \n",
      "---  ------      --------------    -----  \n",
      " 0   merchant    1296675 non-null  object \n",
      " 1   category    1296675 non-null  object \n",
      " 2   amt         1296675 non-null  float64\n",
      " 3   gender      1296675 non-null  object \n",
      " 4   unix_time   1296675 non-null  int64  \n",
      " 5   merch_lat   1296675 non-null  float64\n",
      " 6   merch_long  1296675 non-null  float64\n",
      " 7   is_fraud    1296675 non-null  int64  \n",
      " 8   age         1296675 non-null  int64  \n",
      "dtypes: float64(3), int64(3), object(3)\n",
      "memory usage: 89.0+ MB\n"
     ]
    }
   ],
   "source": [
    "clean_df.info()"
   ]
  },
  {
   "cell_type": "code",
   "execution_count": 4,
   "metadata": {
    "colab": {
     "base_uri": "https://localhost:8080/"
    },
    "id": "CCamqrxNMwlL",
    "outputId": "a5204a3e-9ae9-496a-e26b-301f092ef67b"
   },
   "outputs": [
    {
     "name": "stdout",
     "output_type": "stream",
     "text": [
      "(1296675, 9)\n"
     ]
    }
   ],
   "source": [
    "print(clean_df.shape)"
   ]
  },
  {
   "cell_type": "code",
   "execution_count": 5,
   "metadata": {
    "colab": {
     "base_uri": "https://localhost:8080/",
     "height": 942
    },
    "id": "ffZ2decoMwac",
    "outputId": "0087f34b-d3ac-4a04-de1b-2d5198b05690"
   },
   "outputs": [
    {
     "name": "stdout",
     "output_type": "stream",
     "text": [
      "(129668, 9)\n"
     ]
    },
    {
     "data": {
      "text/html": [
       "<div>\n",
       "<style scoped>\n",
       "    .dataframe tbody tr th:only-of-type {\n",
       "        vertical-align: middle;\n",
       "    }\n",
       "\n",
       "    .dataframe tbody tr th {\n",
       "        vertical-align: top;\n",
       "    }\n",
       "\n",
       "    .dataframe thead th {\n",
       "        text-align: right;\n",
       "    }\n",
       "</style>\n",
       "<table border=\"1\" class=\"dataframe\">\n",
       "  <thead>\n",
       "    <tr style=\"text-align: right;\">\n",
       "      <th></th>\n",
       "      <th>merchant</th>\n",
       "      <th>category</th>\n",
       "      <th>amt</th>\n",
       "      <th>gender</th>\n",
       "      <th>unix_time</th>\n",
       "      <th>merch_lat</th>\n",
       "      <th>merch_long</th>\n",
       "      <th>is_fraud</th>\n",
       "      <th>age</th>\n",
       "    </tr>\n",
       "  </thead>\n",
       "  <tbody>\n",
       "    <tr>\n",
       "      <th>94102</th>\n",
       "      <td>fraud_Funk Group</td>\n",
       "      <td>grocery_net</td>\n",
       "      <td>20.00</td>\n",
       "      <td>F</td>\n",
       "      <td>1330158280</td>\n",
       "      <td>46.398331</td>\n",
       "      <td>-99.813959</td>\n",
       "      <td>0</td>\n",
       "      <td>74</td>\n",
       "    </tr>\n",
       "    <tr>\n",
       "      <th>198791</th>\n",
       "      <td>fraud_Prosacco, Kreiger and Kovacek</td>\n",
       "      <td>home</td>\n",
       "      <td>284.88</td>\n",
       "      <td>F</td>\n",
       "      <td>1334260215</td>\n",
       "      <td>45.687331</td>\n",
       "      <td>-117.488135</td>\n",
       "      <td>0</td>\n",
       "      <td>79</td>\n",
       "    </tr>\n",
       "    <tr>\n",
       "      <th>1238587</th>\n",
       "      <td>fraud_Langworth, Boehm and Gulgowski</td>\n",
       "      <td>shopping_net</td>\n",
       "      <td>5.07</td>\n",
       "      <td>F</td>\n",
       "      <td>1370037053</td>\n",
       "      <td>27.254081</td>\n",
       "      <td>-81.974799</td>\n",
       "      <td>0</td>\n",
       "      <td>44</td>\n",
       "    </tr>\n",
       "    <tr>\n",
       "      <th>619078</th>\n",
       "      <td>fraud_Conroy-Emard</td>\n",
       "      <td>food_dining</td>\n",
       "      <td>45.38</td>\n",
       "      <td>F</td>\n",
       "      <td>1348160812</td>\n",
       "      <td>34.551957</td>\n",
       "      <td>-83.374265</td>\n",
       "      <td>0</td>\n",
       "      <td>25</td>\n",
       "    </tr>\n",
       "    <tr>\n",
       "      <th>573850</th>\n",
       "      <td>fraud_Adams-Barrows</td>\n",
       "      <td>health_fitness</td>\n",
       "      <td>27.52</td>\n",
       "      <td>M</td>\n",
       "      <td>1346455370</td>\n",
       "      <td>43.032957</td>\n",
       "      <td>-83.521294</td>\n",
       "      <td>0</td>\n",
       "      <td>27</td>\n",
       "    </tr>\n",
       "    <tr>\n",
       "      <th>1201872</th>\n",
       "      <td>fraud_Effertz LLC</td>\n",
       "      <td>entertainment</td>\n",
       "      <td>131.75</td>\n",
       "      <td>F</td>\n",
       "      <td>1368814877</td>\n",
       "      <td>35.068173</td>\n",
       "      <td>-90.274482</td>\n",
       "      <td>0</td>\n",
       "      <td>45</td>\n",
       "    </tr>\n",
       "    <tr>\n",
       "      <th>61984</th>\n",
       "      <td>fraud_Morissette LLC</td>\n",
       "      <td>entertainment</td>\n",
       "      <td>146.69</td>\n",
       "      <td>F</td>\n",
       "      <td>1328478474</td>\n",
       "      <td>38.229734</td>\n",
       "      <td>-94.197224</td>\n",
       "      <td>0</td>\n",
       "      <td>35</td>\n",
       "    </tr>\n",
       "    <tr>\n",
       "      <th>552029</th>\n",
       "      <td>fraud_Wiegand-Lowe</td>\n",
       "      <td>grocery_net</td>\n",
       "      <td>74.27</td>\n",
       "      <td>M</td>\n",
       "      <td>1345809559</td>\n",
       "      <td>34.230048</td>\n",
       "      <td>-82.674878</td>\n",
       "      <td>0</td>\n",
       "      <td>80</td>\n",
       "    </tr>\n",
       "    <tr>\n",
       "      <th>1079425</th>\n",
       "      <td>fraud_Harris Group</td>\n",
       "      <td>food_dining</td>\n",
       "      <td>11.22</td>\n",
       "      <td>F</td>\n",
       "      <td>1364105244</td>\n",
       "      <td>33.700800</td>\n",
       "      <td>-80.342778</td>\n",
       "      <td>0</td>\n",
       "      <td>61</td>\n",
       "    </tr>\n",
       "    <tr>\n",
       "      <th>681734</th>\n",
       "      <td>fraud_Dach-Nader</td>\n",
       "      <td>misc_net</td>\n",
       "      <td>3.96</td>\n",
       "      <td>F</td>\n",
       "      <td>1350531664</td>\n",
       "      <td>29.905143</td>\n",
       "      <td>-98.185725</td>\n",
       "      <td>0</td>\n",
       "      <td>55</td>\n",
       "    </tr>\n",
       "  </tbody>\n",
       "</table>\n",
       "</div>"
      ],
      "text/plain": [
       "                                     merchant        category     amt gender  \\\n",
       "94102                        fraud_Funk Group     grocery_net   20.00      F   \n",
       "198791    fraud_Prosacco, Kreiger and Kovacek            home  284.88      F   \n",
       "1238587  fraud_Langworth, Boehm and Gulgowski    shopping_net    5.07      F   \n",
       "619078                     fraud_Conroy-Emard     food_dining   45.38      F   \n",
       "573850                    fraud_Adams-Barrows  health_fitness   27.52      M   \n",
       "1201872                     fraud_Effertz LLC   entertainment  131.75      F   \n",
       "61984                    fraud_Morissette LLC   entertainment  146.69      F   \n",
       "552029                     fraud_Wiegand-Lowe     grocery_net   74.27      M   \n",
       "1079425                    fraud_Harris Group     food_dining   11.22      F   \n",
       "681734                       fraud_Dach-Nader        misc_net    3.96      F   \n",
       "\n",
       "          unix_time  merch_lat  merch_long  is_fraud  age  \n",
       "94102    1330158280  46.398331  -99.813959         0   74  \n",
       "198791   1334260215  45.687331 -117.488135         0   79  \n",
       "1238587  1370037053  27.254081  -81.974799         0   44  \n",
       "619078   1348160812  34.551957  -83.374265         0   25  \n",
       "573850   1346455370  43.032957  -83.521294         0   27  \n",
       "1201872  1368814877  35.068173  -90.274482         0   45  \n",
       "61984    1328478474  38.229734  -94.197224         0   35  \n",
       "552029   1345809559  34.230048  -82.674878         0   80  \n",
       "1079425  1364105244  33.700800  -80.342778         0   61  \n",
       "681734   1350531664  29.905143  -98.185725         0   55  "
      ]
     },
     "execution_count": 5,
     "metadata": {},
     "output_type": "execute_result"
    }
   ],
   "source": [
    "# taking smaller sample to run the model faster\n",
    "\n",
    "clean_df= clean_df.sample(frac = 0.1,random_state=1)\n",
    "\n",
    "print(clean_df.shape)\n",
    "clean_df.head(10)"
   ]
  },
  {
   "cell_type": "code",
   "execution_count": 6,
   "metadata": {
    "colab": {
     "base_uri": "https://localhost:8080/"
    },
    "id": "duWC00AxNEl9",
    "outputId": "71267a86-5154-4925-d703-ced0369cc50c"
   },
   "outputs": [
    {
     "data": {
      "text/plain": [
       "merchant      0\n",
       "category      0\n",
       "amt           0\n",
       "gender        0\n",
       "unix_time     0\n",
       "merch_lat     0\n",
       "merch_long    0\n",
       "is_fraud      0\n",
       "age           0\n",
       "dtype: int64"
      ]
     },
     "execution_count": 6,
     "metadata": {},
     "output_type": "execute_result"
    }
   ],
   "source": [
    "clean_df.isnull().sum()"
   ]
  },
  {
   "cell_type": "code",
   "execution_count": 7,
   "metadata": {
    "id": "KO_nSoL6OlmM"
   },
   "outputs": [],
   "source": [
    "# Create our features\n",
    "X = pd.get_dummies(clean_df, columns=['merchant', 'category', 'gender'])\n",
    "                \n",
    "# Create our target\n",
    "y = clean_df['is_fraud']"
   ]
  },
  {
   "cell_type": "code",
   "execution_count": 8,
   "metadata": {
    "colab": {
     "base_uri": "https://localhost:8080/",
     "height": 428
    },
    "id": "SfoNRmyTOnnf",
    "outputId": "a88c1d49-ec28-46ad-cbd9-49707238da1d"
   },
   "outputs": [
    {
     "data": {
      "text/html": [
       "<div>\n",
       "<style scoped>\n",
       "    .dataframe tbody tr th:only-of-type {\n",
       "        vertical-align: middle;\n",
       "    }\n",
       "\n",
       "    .dataframe tbody tr th {\n",
       "        vertical-align: top;\n",
       "    }\n",
       "\n",
       "    .dataframe thead th {\n",
       "        text-align: right;\n",
       "    }\n",
       "</style>\n",
       "<table border=\"1\" class=\"dataframe\">\n",
       "  <thead>\n",
       "    <tr style=\"text-align: right;\">\n",
       "      <th></th>\n",
       "      <th>amt</th>\n",
       "      <th>unix_time</th>\n",
       "      <th>merch_lat</th>\n",
       "      <th>merch_long</th>\n",
       "      <th>is_fraud</th>\n",
       "      <th>age</th>\n",
       "      <th>merchant_fraud_Abbott-Rogahn</th>\n",
       "      <th>merchant_fraud_Abbott-Steuber</th>\n",
       "      <th>merchant_fraud_Abernathy and Sons</th>\n",
       "      <th>merchant_fraud_Abshire PLC</th>\n",
       "      <th>...</th>\n",
       "      <th>category_home</th>\n",
       "      <th>category_kids_pets</th>\n",
       "      <th>category_misc_net</th>\n",
       "      <th>category_misc_pos</th>\n",
       "      <th>category_personal_care</th>\n",
       "      <th>category_shopping_net</th>\n",
       "      <th>category_shopping_pos</th>\n",
       "      <th>category_travel</th>\n",
       "      <th>gender_F</th>\n",
       "      <th>gender_M</th>\n",
       "    </tr>\n",
       "  </thead>\n",
       "  <tbody>\n",
       "    <tr>\n",
       "      <th>count</th>\n",
       "      <td>129668.000000</td>\n",
       "      <td>1.296680e+05</td>\n",
       "      <td>129668.000000</td>\n",
       "      <td>129668.000000</td>\n",
       "      <td>129668.000000</td>\n",
       "      <td>129668.000000</td>\n",
       "      <td>129668.000000</td>\n",
       "      <td>129668.000000</td>\n",
       "      <td>129668.000000</td>\n",
       "      <td>129668.000000</td>\n",
       "      <td>...</td>\n",
       "      <td>129668.000000</td>\n",
       "      <td>129668.000000</td>\n",
       "      <td>129668.000000</td>\n",
       "      <td>129668.000000</td>\n",
       "      <td>129668.000000</td>\n",
       "      <td>129668.000000</td>\n",
       "      <td>129668.000000</td>\n",
       "      <td>129668.000000</td>\n",
       "      <td>129668.000000</td>\n",
       "      <td>129668.000000</td>\n",
       "    </tr>\n",
       "    <tr>\n",
       "      <th>mean</th>\n",
       "      <td>70.061919</td>\n",
       "      <td>1.349218e+09</td>\n",
       "      <td>38.532677</td>\n",
       "      <td>-90.195662</td>\n",
       "      <td>0.005437</td>\n",
       "      <td>48.721990</td>\n",
       "      <td>0.001365</td>\n",
       "      <td>0.001504</td>\n",
       "      <td>0.001419</td>\n",
       "      <td>0.001473</td>\n",
       "      <td>...</td>\n",
       "      <td>0.095397</td>\n",
       "      <td>0.086135</td>\n",
       "      <td>0.049311</td>\n",
       "      <td>0.060840</td>\n",
       "      <td>0.070364</td>\n",
       "      <td>0.075238</td>\n",
       "      <td>0.089536</td>\n",
       "      <td>0.031272</td>\n",
       "      <td>0.549758</td>\n",
       "      <td>0.450242</td>\n",
       "    </tr>\n",
       "    <tr>\n",
       "      <th>std</th>\n",
       "      <td>153.627239</td>\n",
       "      <td>1.279134e+07</td>\n",
       "      <td>5.094736</td>\n",
       "      <td>13.758655</td>\n",
       "      <td>0.073535</td>\n",
       "      <td>17.374394</td>\n",
       "      <td>0.036921</td>\n",
       "      <td>0.038750</td>\n",
       "      <td>0.037643</td>\n",
       "      <td>0.038351</td>\n",
       "      <td>...</td>\n",
       "      <td>0.293764</td>\n",
       "      <td>0.280565</td>\n",
       "      <td>0.216516</td>\n",
       "      <td>0.239038</td>\n",
       "      <td>0.255761</td>\n",
       "      <td>0.263776</td>\n",
       "      <td>0.285517</td>\n",
       "      <td>0.174053</td>\n",
       "      <td>0.497520</td>\n",
       "      <td>0.497520</td>\n",
       "    </tr>\n",
       "    <tr>\n",
       "      <th>min</th>\n",
       "      <td>1.000000</td>\n",
       "      <td>1.325376e+09</td>\n",
       "      <td>19.035472</td>\n",
       "      <td>-166.657834</td>\n",
       "      <td>0.000000</td>\n",
       "      <td>17.000000</td>\n",
       "      <td>0.000000</td>\n",
       "      <td>0.000000</td>\n",
       "      <td>0.000000</td>\n",
       "      <td>0.000000</td>\n",
       "      <td>...</td>\n",
       "      <td>0.000000</td>\n",
       "      <td>0.000000</td>\n",
       "      <td>0.000000</td>\n",
       "      <td>0.000000</td>\n",
       "      <td>0.000000</td>\n",
       "      <td>0.000000</td>\n",
       "      <td>0.000000</td>\n",
       "      <td>0.000000</td>\n",
       "      <td>0.000000</td>\n",
       "      <td>0.000000</td>\n",
       "    </tr>\n",
       "    <tr>\n",
       "      <th>25%</th>\n",
       "      <td>9.630000</td>\n",
       "      <td>1.338757e+09</td>\n",
       "      <td>34.751272</td>\n",
       "      <td>-96.899931</td>\n",
       "      <td>0.000000</td>\n",
       "      <td>35.000000</td>\n",
       "      <td>0.000000</td>\n",
       "      <td>0.000000</td>\n",
       "      <td>0.000000</td>\n",
       "      <td>0.000000</td>\n",
       "      <td>...</td>\n",
       "      <td>0.000000</td>\n",
       "      <td>0.000000</td>\n",
       "      <td>0.000000</td>\n",
       "      <td>0.000000</td>\n",
       "      <td>0.000000</td>\n",
       "      <td>0.000000</td>\n",
       "      <td>0.000000</td>\n",
       "      <td>0.000000</td>\n",
       "      <td>0.000000</td>\n",
       "      <td>0.000000</td>\n",
       "    </tr>\n",
       "    <tr>\n",
       "      <th>50%</th>\n",
       "      <td>47.360000</td>\n",
       "      <td>1.349244e+09</td>\n",
       "      <td>39.360173</td>\n",
       "      <td>-87.408320</td>\n",
       "      <td>0.000000</td>\n",
       "      <td>47.000000</td>\n",
       "      <td>0.000000</td>\n",
       "      <td>0.000000</td>\n",
       "      <td>0.000000</td>\n",
       "      <td>0.000000</td>\n",
       "      <td>...</td>\n",
       "      <td>0.000000</td>\n",
       "      <td>0.000000</td>\n",
       "      <td>0.000000</td>\n",
       "      <td>0.000000</td>\n",
       "      <td>0.000000</td>\n",
       "      <td>0.000000</td>\n",
       "      <td>0.000000</td>\n",
       "      <td>0.000000</td>\n",
       "      <td>1.000000</td>\n",
       "      <td>0.000000</td>\n",
       "    </tr>\n",
       "    <tr>\n",
       "      <th>75%</th>\n",
       "      <td>82.940000</td>\n",
       "      <td>1.359235e+09</td>\n",
       "      <td>41.938529</td>\n",
       "      <td>-80.190236</td>\n",
       "      <td>0.000000</td>\n",
       "      <td>60.000000</td>\n",
       "      <td>0.000000</td>\n",
       "      <td>0.000000</td>\n",
       "      <td>0.000000</td>\n",
       "      <td>0.000000</td>\n",
       "      <td>...</td>\n",
       "      <td>0.000000</td>\n",
       "      <td>0.000000</td>\n",
       "      <td>0.000000</td>\n",
       "      <td>0.000000</td>\n",
       "      <td>0.000000</td>\n",
       "      <td>0.000000</td>\n",
       "      <td>0.000000</td>\n",
       "      <td>0.000000</td>\n",
       "      <td>1.000000</td>\n",
       "      <td>1.000000</td>\n",
       "    </tr>\n",
       "    <tr>\n",
       "      <th>max</th>\n",
       "      <td>17897.240000</td>\n",
       "      <td>1.371817e+09</td>\n",
       "      <td>66.645176</td>\n",
       "      <td>-66.963975</td>\n",
       "      <td>1.000000</td>\n",
       "      <td>98.000000</td>\n",
       "      <td>1.000000</td>\n",
       "      <td>1.000000</td>\n",
       "      <td>1.000000</td>\n",
       "      <td>1.000000</td>\n",
       "      <td>...</td>\n",
       "      <td>1.000000</td>\n",
       "      <td>1.000000</td>\n",
       "      <td>1.000000</td>\n",
       "      <td>1.000000</td>\n",
       "      <td>1.000000</td>\n",
       "      <td>1.000000</td>\n",
       "      <td>1.000000</td>\n",
       "      <td>1.000000</td>\n",
       "      <td>1.000000</td>\n",
       "      <td>1.000000</td>\n",
       "    </tr>\n",
       "  </tbody>\n",
       "</table>\n",
       "<p>8 rows × 715 columns</p>\n",
       "</div>"
      ],
      "text/plain": [
       "                 amt     unix_time      merch_lat     merch_long  \\\n",
       "count  129668.000000  1.296680e+05  129668.000000  129668.000000   \n",
       "mean       70.061919  1.349218e+09      38.532677     -90.195662   \n",
       "std       153.627239  1.279134e+07       5.094736      13.758655   \n",
       "min         1.000000  1.325376e+09      19.035472    -166.657834   \n",
       "25%         9.630000  1.338757e+09      34.751272     -96.899931   \n",
       "50%        47.360000  1.349244e+09      39.360173     -87.408320   \n",
       "75%        82.940000  1.359235e+09      41.938529     -80.190236   \n",
       "max     17897.240000  1.371817e+09      66.645176     -66.963975   \n",
       "\n",
       "            is_fraud            age  merchant_fraud_Abbott-Rogahn  \\\n",
       "count  129668.000000  129668.000000                 129668.000000   \n",
       "mean        0.005437      48.721990                      0.001365   \n",
       "std         0.073535      17.374394                      0.036921   \n",
       "min         0.000000      17.000000                      0.000000   \n",
       "25%         0.000000      35.000000                      0.000000   \n",
       "50%         0.000000      47.000000                      0.000000   \n",
       "75%         0.000000      60.000000                      0.000000   \n",
       "max         1.000000      98.000000                      1.000000   \n",
       "\n",
       "       merchant_fraud_Abbott-Steuber  merchant_fraud_Abernathy and Sons  \\\n",
       "count                  129668.000000                      129668.000000   \n",
       "mean                        0.001504                           0.001419   \n",
       "std                         0.038750                           0.037643   \n",
       "min                         0.000000                           0.000000   \n",
       "25%                         0.000000                           0.000000   \n",
       "50%                         0.000000                           0.000000   \n",
       "75%                         0.000000                           0.000000   \n",
       "max                         1.000000                           1.000000   \n",
       "\n",
       "       merchant_fraud_Abshire PLC  ...  category_home  category_kids_pets  \\\n",
       "count               129668.000000  ...  129668.000000       129668.000000   \n",
       "mean                     0.001473  ...       0.095397            0.086135   \n",
       "std                      0.038351  ...       0.293764            0.280565   \n",
       "min                      0.000000  ...       0.000000            0.000000   \n",
       "25%                      0.000000  ...       0.000000            0.000000   \n",
       "50%                      0.000000  ...       0.000000            0.000000   \n",
       "75%                      0.000000  ...       0.000000            0.000000   \n",
       "max                      1.000000  ...       1.000000            1.000000   \n",
       "\n",
       "       category_misc_net  category_misc_pos  category_personal_care  \\\n",
       "count      129668.000000      129668.000000           129668.000000   \n",
       "mean            0.049311           0.060840                0.070364   \n",
       "std             0.216516           0.239038                0.255761   \n",
       "min             0.000000           0.000000                0.000000   \n",
       "25%             0.000000           0.000000                0.000000   \n",
       "50%             0.000000           0.000000                0.000000   \n",
       "75%             0.000000           0.000000                0.000000   \n",
       "max             1.000000           1.000000                1.000000   \n",
       "\n",
       "       category_shopping_net  category_shopping_pos  category_travel  \\\n",
       "count          129668.000000          129668.000000    129668.000000   \n",
       "mean                0.075238               0.089536         0.031272   \n",
       "std                 0.263776               0.285517         0.174053   \n",
       "min                 0.000000               0.000000         0.000000   \n",
       "25%                 0.000000               0.000000         0.000000   \n",
       "50%                 0.000000               0.000000         0.000000   \n",
       "75%                 0.000000               0.000000         0.000000   \n",
       "max                 1.000000               1.000000         1.000000   \n",
       "\n",
       "            gender_F       gender_M  \n",
       "count  129668.000000  129668.000000  \n",
       "mean        0.549758       0.450242  \n",
       "std         0.497520       0.497520  \n",
       "min         0.000000       0.000000  \n",
       "25%         0.000000       0.000000  \n",
       "50%         1.000000       0.000000  \n",
       "75%         1.000000       1.000000  \n",
       "max         1.000000       1.000000  \n",
       "\n",
       "[8 rows x 715 columns]"
      ]
     },
     "execution_count": 8,
     "metadata": {},
     "output_type": "execute_result"
    }
   ],
   "source": [
    "X.describe()"
   ]
  },
  {
   "cell_type": "code",
   "execution_count": 9,
   "metadata": {},
   "outputs": [
    {
     "data": {
      "text/plain": [
       "(97251, 715)"
      ]
     },
     "execution_count": 9,
     "metadata": {},
     "output_type": "execute_result"
    }
   ],
   "source": [
    "from sklearn.model_selection import train_test_split\n",
    "X_train, X_test, y_train, y_test = train_test_split(X,y, random_state=1, stratify=y)\n",
    "X_train.shape\n",
    "            "
   ]
  },
  {
   "cell_type": "code",
   "execution_count": 10,
   "metadata": {
    "id": "_a7MATnWO04a"
   },
   "outputs": [
    {
     "data": {
      "text/plain": [
       "Counter({0: 128963, 1: 128963})"
      ]
     },
     "execution_count": 10,
     "metadata": {},
     "output_type": "execute_result"
    }
   ],
   "source": [
    "# Resample the training data with the RandomOversampler\n",
    "from imblearn.over_sampling import RandomOverSampler\n",
    "ros = RandomOverSampler(random_state=1)\n",
    "X_resampled, y_resampled = ros.fit_resample(X, y)\n",
    "Counter(y_resampled)"
   ]
  },
  {
   "cell_type": "code",
   "execution_count": 11,
   "metadata": {},
   "outputs": [
    {
     "data": {
      "text/plain": [
       "LogisticRegression(random_state=1)"
      ]
     },
     "execution_count": 11,
     "metadata": {},
     "output_type": "execute_result"
    }
   ],
   "source": [
    "# Train the Logistic Regression model using the resampled data\n",
    "from sklearn.linear_model import LogisticRegression\n",
    "model = LogisticRegression(solver='lbfgs', random_state=1)\n",
    "model.fit(X_resampled, y_resampled)"
   ]
  },
  {
   "cell_type": "code",
   "execution_count": 12,
   "metadata": {},
   "outputs": [
    {
     "data": {
      "text/plain": [
       "array([[30779,  1462],\n",
       "       [   38,   138]], dtype=int64)"
      ]
     },
     "execution_count": 12,
     "metadata": {},
     "output_type": "execute_result"
    }
   ],
   "source": [
    "# Display the confusion matrix\n",
    "from sklearn.metrics import confusion_matrix\n",
    "y_pred = model.predict(X_test)\n",
    "confusion_matrix(y_test, y_pred)"
   ]
  },
  {
   "cell_type": "code",
   "execution_count": 13,
   "metadata": {},
   "outputs": [
    {
     "data": {
      "text/plain": [
       "0.8693724605316212"
      ]
     },
     "execution_count": 13,
     "metadata": {},
     "output_type": "execute_result"
    }
   ],
   "source": [
    "# Calculated the balanced accuracy score\n",
    "from sklearn.metrics import balanced_accuracy_score\n",
    "balanced_accuracy_score(y_test, y_pred)"
   ]
  },
  {
   "cell_type": "code",
   "execution_count": 14,
   "metadata": {},
   "outputs": [
    {
     "name": "stdout",
     "output_type": "stream",
     "text": [
      "                   pre       rec       spe        f1       geo       iba       sup\n",
      "\n",
      "          0       1.00      0.95      0.78      0.98      0.87      0.76     32241\n",
      "          1       0.09      0.78      0.95      0.16      0.87      0.74       176\n",
      "\n",
      "avg / total       0.99      0.95      0.79      0.97      0.87      0.76     32417\n",
      "\n"
     ]
    }
   ],
   "source": [
    "# Print the imbalanced classification report\n",
    "from imblearn.metrics import classification_report_imbalanced\n",
    "print(classification_report_imbalanced(y_test, y_pred))"
   ]
  },
  {
   "cell_type": "markdown",
   "metadata": {},
   "source": [
    "SMOTE Oversampling"
   ]
  },
  {
   "cell_type": "code",
   "execution_count": null,
   "metadata": {},
   "outputs": [],
   "source": []
  },
  {
   "cell_type": "code",
   "execution_count": 15,
   "metadata": {},
   "outputs": [
    {
     "data": {
      "text/plain": [
       "Counter({0: 96722, 1: 96722})"
      ]
     },
     "execution_count": 15,
     "metadata": {},
     "output_type": "execute_result"
    }
   ],
   "source": [
    "# Resample the training data with SMOTE\n",
    "from imblearn.over_sampling import SMOTE\n",
    "X_resampled, y_resampled = SMOTE(random_state=1,\n",
    "sampling_strategy='auto').fit_resample(\n",
    "   X_train, y_train)\n",
    "Counter(y_resampled)"
   ]
  },
  {
   "cell_type": "code",
   "execution_count": 16,
   "metadata": {},
   "outputs": [],
   "source": [
    "# Train the Logistic Regression model using the resampled data\n",
    "model = LogisticRegression(solver='lbfgs', random_state=1)\n",
    "model.fit(X_resampled, y_resampled)\n",
    "\n",
    "y_pred = model.predict(X_test)"
   ]
  },
  {
   "cell_type": "code",
   "execution_count": 17,
   "metadata": {},
   "outputs": [
    {
     "data": {
      "text/plain": [
       "0.868922722620266"
      ]
     },
     "execution_count": 17,
     "metadata": {},
     "output_type": "execute_result"
    }
   ],
   "source": [
    "# Calculated the balanced accuracy score\n",
    "from sklearn.metrics import balanced_accuracy_score\n",
    "balanced_accuracy_score(y_test, y_pred)"
   ]
  },
  {
   "cell_type": "code",
   "execution_count": 18,
   "metadata": {},
   "outputs": [
    {
     "data": {
      "text/plain": [
       "array([[30750,  1491],\n",
       "       [   38,   138]], dtype=int64)"
      ]
     },
     "execution_count": 18,
     "metadata": {},
     "output_type": "execute_result"
    }
   ],
   "source": [
    "# Display the confusion matrix\n",
    "from sklearn.metrics import confusion_matrix\n",
    "y_pred = model.predict(X_test)\n",
    "confusion_matrix(y_test, y_pred)"
   ]
  },
  {
   "cell_type": "code",
   "execution_count": 19,
   "metadata": {},
   "outputs": [
    {
     "name": "stdout",
     "output_type": "stream",
     "text": [
      "                   pre       rec       spe        f1       geo       iba       sup\n",
      "\n",
      "          0       1.00      0.95      0.78      0.98      0.86      0.76     32241\n",
      "          1       0.08      0.78      0.95      0.15      0.86      0.74       176\n",
      "\n",
      "avg / total       0.99      0.95      0.79      0.97      0.86      0.76     32417\n",
      "\n"
     ]
    }
   ],
   "source": [
    "# Print the imbalanced classification report\n",
    "print(classification_report_imbalanced(y_test, y_pred))"
   ]
  },
  {
   "cell_type": "markdown",
   "metadata": {},
   "source": [
    "Undersampling"
   ]
  },
  {
   "cell_type": "code",
   "execution_count": 20,
   "metadata": {},
   "outputs": [],
   "source": [
    "# Resample the data using the ClusterCentroids resampler\n",
    "# Warning: This is a large dataset, and this step may take some time to complete\n",
    "from imblearn.under_sampling import ClusterCentroids\n",
    "cc = ClusterCentroids(random_state=1)\n",
    "X_resampled, y_resampled = cc.fit_resample(X_train, y_train)"
   ]
  },
  {
   "cell_type": "code",
   "execution_count": 21,
   "metadata": {},
   "outputs": [
    {
     "data": {
      "text/plain": [
       "LogisticRegression(random_state=1)"
      ]
     },
     "execution_count": 21,
     "metadata": {},
     "output_type": "execute_result"
    }
   ],
   "source": [
    "# Train the Logistic Regression model using the resampled data\n",
    "from sklearn.linear_model import LogisticRegression\n",
    "model = LogisticRegression(solver='lbfgs', random_state=1)\n",
    "model.fit(X_resampled, y_resampled)"
   ]
  },
  {
   "cell_type": "code",
   "execution_count": 22,
   "metadata": {},
   "outputs": [
    {
     "data": {
      "text/plain": [
       "0.868922722620266"
      ]
     },
     "execution_count": 22,
     "metadata": {},
     "output_type": "execute_result"
    }
   ],
   "source": [
    "# Calculated the balanced accuracy score\n",
    "from sklearn.metrics import balanced_accuracy_score\n",
    "balanced_accuracy_score(y_test, y_pred)"
   ]
  },
  {
   "cell_type": "code",
   "execution_count": 23,
   "metadata": {},
   "outputs": [
    {
     "data": {
      "text/plain": [
       "array([[32241,     0],\n",
       "       [  176,     0]], dtype=int64)"
      ]
     },
     "execution_count": 23,
     "metadata": {},
     "output_type": "execute_result"
    }
   ],
   "source": [
    "# Display the confusion matrix\n",
    "from sklearn.metrics import confusion_matrix\n",
    "y_pred = model.predict(X_test)\n",
    "confusion_matrix(y_test, y_pred)"
   ]
  },
  {
   "cell_type": "code",
   "execution_count": 24,
   "metadata": {},
   "outputs": [
    {
     "name": "stdout",
     "output_type": "stream",
     "text": [
      "                   pre       rec       spe        f1       geo       iba       sup\n",
      "\n",
      "          0       0.99      1.00      0.00      1.00      0.00      0.00     32241\n",
      "          1       0.00      0.00      1.00      0.00      0.00      0.00       176\n",
      "\n",
      "avg / total       0.99      0.99      0.01      0.99      0.00      0.00     32417\n",
      "\n"
     ]
    }
   ],
   "source": [
    "# Print the imbalanced classification report\n",
    "from imblearn.metrics import classification_report_imbalanced\n",
    "print(classification_report_imbalanced(y_test, y_pred))"
   ]
  },
  {
   "cell_type": "markdown",
   "metadata": {},
   "source": [
    "Combination (Over and Under) Sampling"
   ]
  },
  {
   "cell_type": "code",
   "execution_count": 25,
   "metadata": {},
   "outputs": [],
   "source": [
    "# Resample the training data with SMOTEENN\n",
    "# Warning: This is a large dataset, and this step may take some time to complete\n",
    "from imblearn.combine import SMOTEENN\n",
    "smote_enn = SMOTEENN(random_state=0)\n",
    "X_resampled, y_resampled = smote_enn.fit_resample(X, y)"
   ]
  },
  {
   "cell_type": "code",
   "execution_count": 26,
   "metadata": {},
   "outputs": [
    {
     "data": {
      "text/plain": [
       "LogisticRegression(random_state=1)"
      ]
     },
     "execution_count": 26,
     "metadata": {},
     "output_type": "execute_result"
    }
   ],
   "source": [
    "# Train the Logistic Regression model using the resampled data\n",
    "from sklearn.linear_model import LogisticRegression\n",
    "model = LogisticRegression(solver='lbfgs', random_state=1)\n",
    "model.fit(X_resampled, y_resampled)"
   ]
  },
  {
   "cell_type": "code",
   "execution_count": 27,
   "metadata": {},
   "outputs": [
    {
     "data": {
      "text/plain": [
       "0.5"
      ]
     },
     "execution_count": 27,
     "metadata": {},
     "output_type": "execute_result"
    }
   ],
   "source": [
    "# Calculated the balanced accuracy score\n",
    "from sklearn.metrics import balanced_accuracy_score\n",
    "balanced_accuracy_score(y_test, y_pred)"
   ]
  },
  {
   "cell_type": "code",
   "execution_count": 28,
   "metadata": {},
   "outputs": [
    {
     "data": {
      "text/plain": [
       "array([[    0, 32241],\n",
       "       [    0,   176]], dtype=int64)"
      ]
     },
     "execution_count": 28,
     "metadata": {},
     "output_type": "execute_result"
    }
   ],
   "source": [
    "# Display the confusion matrix\n",
    "from sklearn.metrics import confusion_matrix\n",
    "y_pred = model.predict(X_test)\n",
    "confusion_matrix(y_test, y_pred)"
   ]
  },
  {
   "cell_type": "code",
   "execution_count": 29,
   "metadata": {},
   "outputs": [
    {
     "name": "stdout",
     "output_type": "stream",
     "text": [
      "                   pre       rec       spe        f1       geo       iba       sup\n",
      "\n",
      "          0       0.00      0.00      1.00      0.00      0.00      0.00     32241\n",
      "          1       0.01      1.00      0.00      0.01      0.00      0.00       176\n",
      "\n",
      "avg / total       0.00      0.01      0.99      0.00      0.00      0.00     32417\n",
      "\n"
     ]
    }
   ],
   "source": [
    "from imblearn.metrics import classification_report_imbalanced\n",
    "print(classification_report_imbalanced(y_test, y_pred))"
   ]
  },
  {
   "cell_type": "code",
   "execution_count": null,
   "metadata": {},
   "outputs": [],
   "source": []
  }
 ],
 "metadata": {
  "colab": {
   "name": "Naive Random Oversampling",
   "provenance": []
  },
  "kernelspec": {
   "display_name": "mlenv",
   "language": "python",
   "name": "mlenv"
  },
  "language_info": {
   "codemirror_mode": {
    "name": "ipython",
    "version": 3
   },
   "file_extension": ".py",
   "mimetype": "text/x-python",
   "name": "python",
   "nbconvert_exporter": "python",
   "pygments_lexer": "ipython3",
   "version": "3.7.11"
  }
 },
 "nbformat": 4,
 "nbformat_minor": 1
}
