{
  "nbformat": 4,
  "nbformat_minor": 0,
  "metadata": {
    "colab": {
      "name": "Copy of ETL_Final_Project",
      "provenance": [],
      "collapsed_sections": [],
      "include_colab_link": true
    },
    "kernelspec": {
      "name": "python3",
      "display_name": "Python 3"
    },
    "language_info": {
      "name": "python"
    }
  },
  "cells": [
    {
      "cell_type": "markdown",
      "metadata": {
        "id": "view-in-github",
        "colab_type": "text"
      },
      "source": [
        "<a href=\"https://colab.research.google.com/github/Charmiece/Final-Project---CreditCard-Fraud/blob/main/ETL_Final_Project.ipynb\" target=\"_parent\"><img src=\"https://colab.research.google.com/assets/colab-badge.svg\" alt=\"Open In Colab\"/></a>"
      ]
    },
    {
      "cell_type": "code",
      "execution_count": 15,
      "metadata": {
        "colab": {
          "base_uri": "https://localhost:8080/"
        },
        "id": "0R7PXg8AInEc",
        "outputId": "bd45c656-cbf0-46c5-c407-4021b79131b6"
      },
      "outputs": [
        {
          "output_type": "stream",
          "name": "stdout",
          "text": [
            "Hit:1 https://cloud.r-project.org/bin/linux/ubuntu bionic-cran40/ InRelease\n",
            "Ign:2 https://developer.download.nvidia.com/compute/cuda/repos/ubuntu1804/x86_64  InRelease\n",
            "Hit:3 http://archive.ubuntu.com/ubuntu bionic InRelease\n",
            "Get:4 http://security.ubuntu.com/ubuntu bionic-security InRelease [88.7 kB]\n",
            "Hit:5 http://ppa.launchpad.net/c2d4u.team/c2d4u4.0+/ubuntu bionic InRelease\n",
            "Get:6 http://archive.ubuntu.com/ubuntu bionic-updates InRelease [88.7 kB]\n",
            "Ign:7 https://developer.download.nvidia.com/compute/machine-learning/repos/ubuntu1804/x86_64  InRelease\n",
            "Hit:8 https://developer.download.nvidia.com/compute/cuda/repos/ubuntu1804/x86_64  Release\n",
            "Hit:9 https://developer.download.nvidia.com/compute/machine-learning/repos/ubuntu1804/x86_64  Release\n",
            "Hit:10 http://ppa.launchpad.net/cran/libgit2/ubuntu bionic InRelease\n",
            "Get:12 http://archive.ubuntu.com/ubuntu bionic-backports InRelease [74.6 kB]\n",
            "Hit:14 http://ppa.launchpad.net/deadsnakes/ppa/ubuntu bionic InRelease\n",
            "Hit:15 http://ppa.launchpad.net/graphics-drivers/ppa/ubuntu bionic InRelease\n",
            "Fetched 252 kB in 3s (91.0 kB/s)\n",
            "Reading package lists... Done\n"
          ]
        }
      ],
      "source": [
        "import os\n",
        "# Find the latest version of spark 3.0  from http://www.apache.org/dist/spark/ and enter as the spark version\n",
        "# For example:\n",
        "# spark_version = 'spark-3.2.1'\n",
        "spark_version = 'spark-3.2.1'\n",
        "os.environ['SPARK_VERSION']=spark_version\n",
        "\n",
        "# Install Spark and Java\n",
        "!apt-get update\n",
        "!apt-get install openjdk-11-jdk-headless -qq > /dev/null\n",
        "!wget -q http://www.apache.org/dist/spark/$SPARK_VERSION/$SPARK_VERSION-bin-hadoop2.7.tgz\n",
        "!tar xf $SPARK_VERSION-bin-hadoop2.7.tgz\n",
        "!pip install -q findspark\n",
        "\n",
        "# Set Environment Variables\n",
        "os.environ[\"JAVA_HOME\"] = \"/usr/lib/jvm/java-11-openjdk-amd64\"\n",
        "os.environ[\"SPARK_HOME\"] = f\"/content/{spark_version}-bin-hadoop2.7\"\n",
        "\n",
        "# Start a SparkSession\n",
        "import findspark\n",
        "findspark.init()"
      ]
    },
    {
      "cell_type": "code",
      "source": [
        "!wget https://jdbc.postgresql.org/download/postgresql-42.2.16.jar"
      ],
      "metadata": {
        "colab": {
          "base_uri": "https://localhost:8080/"
        },
        "id": "Eua0KZJuK1ds",
        "outputId": "2dd37c1b-647d-4035-8870-5306af2f4496"
      },
      "execution_count": 16,
      "outputs": [
        {
          "output_type": "stream",
          "name": "stdout",
          "text": [
            "--2022-04-06 23:17:26--  https://jdbc.postgresql.org/download/postgresql-42.2.16.jar\n",
            "Resolving jdbc.postgresql.org (jdbc.postgresql.org)... 72.32.157.228, 2001:4800:3e1:1::228\n",
            "Connecting to jdbc.postgresql.org (jdbc.postgresql.org)|72.32.157.228|:443... connected.\n",
            "HTTP request sent, awaiting response... 200 OK\n",
            "Length: 1002883 (979K) [application/java-archive]\n",
            "Saving to: ‘postgresql-42.2.16.jar.3’\n",
            "\n",
            "postgresql-42.2.16. 100%[===================>] 979.38K  1.22MB/s    in 0.8s    \n",
            "\n",
            "2022-04-06 23:17:28 (1.22 MB/s) - ‘postgresql-42.2.16.jar.3’ saved [1002883/1002883]\n",
            "\n"
          ]
        }
      ]
    },
    {
      "cell_type": "code",
      "source": [
        "from pyspark.sql import SparkSession\n",
        "spark = SparkSession.builder.appName(\"CloudETL\").config(\"spark.driver.extraClassPath\",\"/content/postgresql-42.2.16.jar\").getOrCreate()"
      ],
      "metadata": {
        "id": "6K--d6MrNIMd"
      },
      "execution_count": 17,
      "outputs": []
    },
    {
      "cell_type": "code",
      "source": [
        "# Read in data from S3 Buckets\n",
        "from pyspark import SparkFiles\n",
        "url =\"https://fraudcreditcard.s3.amazonaws.com/clean_data_train.csv\"\n",
        "spark.sparkContext.addFile(url)\n",
        "user_data_df = spark.read.csv(SparkFiles.get(\"clean_data_train.csv\"), sep=\",\", header=True, inferSchema=True)"
      ],
      "metadata": {
        "id": "RSOXIAPfNSIE"
      },
      "execution_count": 18,
      "outputs": []
    },
    {
      "cell_type": "code",
      "source": [
        "# Show DataFrame\n",
        "user_data_df.show()"
      ],
      "metadata": {
        "colab": {
          "base_uri": "https://localhost:8080/"
        },
        "id": "juWvCdX8ORte",
        "outputId": "fee334f2-5169-44dd-f398-b56152dcbae7"
      },
      "execution_count": 19,
      "outputs": [
        {
          "output_type": "stream",
          "name": "stdout",
          "text": [
            "+----------+--------------------+-------------+------+------+----------+---------+------------------+--------+---+\n",
            "|Unnamed: 0|            merchant|     category|   amt|gender| unix_time|merch_lat|        merch_long|is_fraud|age|\n",
            "+----------+--------------------+-------------+------+------+----------+---------+------------------+--------+---+\n",
            "|         0|fraud_Rippin, Kub...|     misc_net|  4.97|     F|1325376018|36.011293|        -82.048315|       0| 34|\n",
            "|         1|fraud_Heller, Gut...|  grocery_pos|107.23|     F|1325376044|49.159047|       -118.186462|       0| 44|\n",
            "|         2|fraud_Lind-Buckridge|entertainment|220.11|     M|1325376051|43.150704|       -112.154481|       0| 60|\n",
            "|         3|fraud_Kutch, Herm...|gas_transport|  45.0|     M|1325376076|47.034331|       -112.561071|       0| 55|\n",
            "|         4| fraud_Keeling-Crist|     misc_pos| 41.96|     M|1325376186|38.674999|        -78.632459|       0| 36|\n",
            "|         5|fraud_Stroman, Hu...|gas_transport| 94.63|     F|1325376248|40.653382|-76.15266700000001|       0| 61|\n",
            "|         6|fraud_Rowe-Vander...|  grocery_net| 44.54|     F|1325376282|37.162705|        -100.15337|       0| 29|\n",
            "|         7|fraud_Corwin-Collins|gas_transport| 71.65|     M|1325376308|38.948089|        -78.540296|       0| 75|\n",
            "|         8|    fraud_Herzog Ltd|     misc_pos|  4.27|     F|1325376318|40.351813|        -79.958146|       0| 81|\n",
            "|         9|fraud_Schoen, Kup...|  grocery_pos|198.39|     F|1325376361|37.179198|        -87.485381|       0| 48|\n",
            "|        10|fraud_Rutherford-...|  grocery_pos| 24.74|     M|1325376383|40.275891|        -96.011548|       0| 32|\n",
            "|        11|fraud_Kerluke-Abs...| shopping_net|  7.77|     F|1325376413|40.103866|        -78.624459|       0| 56|\n",
            "|        12|   fraud_Lockman Ltd|  grocery_pos| 71.22|     M|1325376416|27.630593|        -82.308891|       0| 33|\n",
            "|        13|     fraud_Kiehn Inc|  grocery_pos| 96.29|     M|1325376447| 41.65752|       -122.230347|       0| 77|\n",
            "|        14|   fraud_Beier-Hyatt| shopping_pos|  7.77|     M|1325376543|32.863258|       -106.520205|       0| 55|\n",
            "|        15|fraud_Schmidt and...| shopping_net|  3.26|     M|1325376560|41.831174|        -74.335559|       0| 57|\n",
            "|        16|fraud_Lebsack and...|     misc_net| 327.0|     F|1325376649|36.384092|        -99.048472|       0| 70|\n",
            "|        17|  fraud_Mayert Group| shopping_pos|341.67|     M|1325376658|38.674491|        -88.305767|       0| 84|\n",
            "|        18|fraud_Konopelski,...|  food_dining| 63.07|     M|1325376674|41.430274|        -79.492553|       0| 76|\n",
            "|        19|fraud_Schultz, Si...|  grocery_pos| 44.71|     M|1325376754|40.079588|-74.84808699999999|       0| 42|\n",
            "+----------+--------------------+-------------+------+------+----------+---------+------------------+--------+---+\n",
            "only showing top 20 rows\n",
            "\n"
          ]
        }
      ]
    },
    {
      "cell_type": "code",
      "source": [
        "age_fraud = user_data_df[['age', 'is_fraud']]\n",
        "age_fraud.show()"
      ],
      "metadata": {
        "id": "NaQHDyBjGmuF",
        "outputId": "dd01a256-155e-45cc-b335-149321df72f3",
        "colab": {
          "base_uri": "https://localhost:8080/"
        }
      },
      "execution_count": 20,
      "outputs": [
        {
          "output_type": "stream",
          "name": "stdout",
          "text": [
            "+---+--------+\n",
            "|age|is_fraud|\n",
            "+---+--------+\n",
            "| 34|       0|\n",
            "| 44|       0|\n",
            "| 60|       0|\n",
            "| 55|       0|\n",
            "| 36|       0|\n",
            "| 61|       0|\n",
            "| 29|       0|\n",
            "| 75|       0|\n",
            "| 81|       0|\n",
            "| 48|       0|\n",
            "| 32|       0|\n",
            "| 56|       0|\n",
            "| 33|       0|\n",
            "| 77|       0|\n",
            "| 55|       0|\n",
            "| 57|       0|\n",
            "| 70|       0|\n",
            "| 84|       0|\n",
            "| 76|       0|\n",
            "| 42|       0|\n",
            "+---+--------+\n",
            "only showing top 20 rows\n",
            "\n"
          ]
        }
      ]
    },
    {
      "cell_type": "code",
      "source": [
        "gender_fraud = user_data_df[['gender', 'is_fraud']]\n",
        "gender_fraud.show()"
      ],
      "metadata": {
        "id": "-8Grun6vGmxP",
        "outputId": "008a1307-66b4-4d4d-f0fa-dd1c001b0704",
        "colab": {
          "base_uri": "https://localhost:8080/"
        }
      },
      "execution_count": 21,
      "outputs": [
        {
          "output_type": "stream",
          "name": "stdout",
          "text": [
            "+------+--------+\n",
            "|gender|is_fraud|\n",
            "+------+--------+\n",
            "|     F|       0|\n",
            "|     F|       0|\n",
            "|     M|       0|\n",
            "|     M|       0|\n",
            "|     M|       0|\n",
            "|     F|       0|\n",
            "|     F|       0|\n",
            "|     M|       0|\n",
            "|     F|       0|\n",
            "|     F|       0|\n",
            "|     M|       0|\n",
            "|     F|       0|\n",
            "|     M|       0|\n",
            "|     M|       0|\n",
            "|     M|       0|\n",
            "|     M|       0|\n",
            "|     F|       0|\n",
            "|     M|       0|\n",
            "|     M|       0|\n",
            "|     M|       0|\n",
            "+------+--------+\n",
            "only showing top 20 rows\n",
            "\n"
          ]
        }
      ]
    },
    {
      "cell_type": "code",
      "source": [
        "location_info = user_data_df[['is_fraud', 'merchant', 'merch_lat', 'merch_long']]\n",
        "location_info.show()"
      ],
      "metadata": {
        "id": "muFCnk0dGm0I",
        "outputId": "55c9d2c8-a82e-40b1-d0fd-879510d835e4",
        "colab": {
          "base_uri": "https://localhost:8080/"
        }
      },
      "execution_count": 22,
      "outputs": [
        {
          "output_type": "stream",
          "name": "stdout",
          "text": [
            "+--------+--------------------+---------+------------------+\n",
            "|is_fraud|            merchant|merch_lat|        merch_long|\n",
            "+--------+--------------------+---------+------------------+\n",
            "|       0|fraud_Rippin, Kub...|36.011293|        -82.048315|\n",
            "|       0|fraud_Heller, Gut...|49.159047|       -118.186462|\n",
            "|       0|fraud_Lind-Buckridge|43.150704|       -112.154481|\n",
            "|       0|fraud_Kutch, Herm...|47.034331|       -112.561071|\n",
            "|       0| fraud_Keeling-Crist|38.674999|        -78.632459|\n",
            "|       0|fraud_Stroman, Hu...|40.653382|-76.15266700000001|\n",
            "|       0|fraud_Rowe-Vander...|37.162705|        -100.15337|\n",
            "|       0|fraud_Corwin-Collins|38.948089|        -78.540296|\n",
            "|       0|    fraud_Herzog Ltd|40.351813|        -79.958146|\n",
            "|       0|fraud_Schoen, Kup...|37.179198|        -87.485381|\n",
            "|       0|fraud_Rutherford-...|40.275891|        -96.011548|\n",
            "|       0|fraud_Kerluke-Abs...|40.103866|        -78.624459|\n",
            "|       0|   fraud_Lockman Ltd|27.630593|        -82.308891|\n",
            "|       0|     fraud_Kiehn Inc| 41.65752|       -122.230347|\n",
            "|       0|   fraud_Beier-Hyatt|32.863258|       -106.520205|\n",
            "|       0|fraud_Schmidt and...|41.831174|        -74.335559|\n",
            "|       0|fraud_Lebsack and...|36.384092|        -99.048472|\n",
            "|       0|  fraud_Mayert Group|38.674491|        -88.305767|\n",
            "|       0|fraud_Konopelski,...|41.430274|        -79.492553|\n",
            "|       0|fraud_Schultz, Si...|40.079588|-74.84808699999999|\n",
            "+--------+--------------------+---------+------------------+\n",
            "only showing top 20 rows\n",
            "\n"
          ]
        }
      ]
    },
    {
      "cell_type": "code",
      "source": [
        "fraud_df = user_data_df[['is_fraud', 'category', 'amt']]\n",
        "fraud_df.show()"
      ],
      "metadata": {
        "id": "G4qhyQjNGm3A",
        "outputId": "ce9d6dd1-f890-4403-f1d7-3ab0f75745ea",
        "colab": {
          "base_uri": "https://localhost:8080/"
        }
      },
      "execution_count": 23,
      "outputs": [
        {
          "output_type": "stream",
          "name": "stdout",
          "text": [
            "+--------+-------------+------+\n",
            "|is_fraud|     category|   amt|\n",
            "+--------+-------------+------+\n",
            "|       0|     misc_net|  4.97|\n",
            "|       0|  grocery_pos|107.23|\n",
            "|       0|entertainment|220.11|\n",
            "|       0|gas_transport|  45.0|\n",
            "|       0|     misc_pos| 41.96|\n",
            "|       0|gas_transport| 94.63|\n",
            "|       0|  grocery_net| 44.54|\n",
            "|       0|gas_transport| 71.65|\n",
            "|       0|     misc_pos|  4.27|\n",
            "|       0|  grocery_pos|198.39|\n",
            "|       0|  grocery_pos| 24.74|\n",
            "|       0| shopping_net|  7.77|\n",
            "|       0|  grocery_pos| 71.22|\n",
            "|       0|  grocery_pos| 96.29|\n",
            "|       0| shopping_pos|  7.77|\n",
            "|       0| shopping_net|  3.26|\n",
            "|       0|     misc_net| 327.0|\n",
            "|       0| shopping_pos|341.67|\n",
            "|       0|  food_dining| 63.07|\n",
            "|       0|  grocery_pos| 44.71|\n",
            "+--------+-------------+------+\n",
            "only showing top 20 rows\n",
            "\n"
          ]
        }
      ]
    },
    {
      "cell_type": "markdown",
      "source": [
        "Connect to the AWS RDS instance and write each DataFrame to its table."
      ],
      "metadata": {
        "id": "9V0IwIgL6Nwz"
      }
    },
    {
      "cell_type": "code",
      "source": [
        "# Configure settings for RDS\n",
        "mode = \"append\"\n",
        "jdbc_url=\"jdbc:postgresql://finalproject.cylfu7wfg2zs.us-east-1.rds.amazonaws.com:5432/final_DB\"\n",
        "config = {\"user\":\"postgres\", \n",
        "          \"password\": \"fraudcc1\", \n",
        "          \"driver\":\"org.postgresql.Driver\"}"
      ],
      "metadata": {
        "id": "gG9CKq1uGm5_"
      },
      "execution_count": 24,
      "outputs": []
    },
    {
      "cell_type": "code",
      "source": [
        "# Write age_fraud to table in RDS\n",
        "age_fraud.write.jdbc(url=jdbc_url, table='age_fraud', mode=mode, properties=config)"
      ],
      "metadata": {
        "id": "dRJn4hfRGm89"
      },
      "execution_count": 25,
      "outputs": []
    },
    {
      "cell_type": "code",
      "source": [
        "# Write gender_fraud to table in RDS\n",
        "gender_fraud.write.jdbc(url=jdbc_url, table='gender_fraud', mode=mode, properties=config)"
      ],
      "metadata": {
        "id": "dHXzPtEYGm_9"
      },
      "execution_count": 26,
      "outputs": []
    },
    {
      "cell_type": "code",
      "source": [
        "# Write location_info to table in RDS\n",
        "location_info.write.jdbc(url=jdbc_url, table='location_info', mode=mode, properties=config)"
      ],
      "metadata": {
        "id": "Yr619RLoGnIy"
      },
      "execution_count": 27,
      "outputs": []
    },
    {
      "cell_type": "code",
      "source": [
        "# Write fraud_df to table in RDS\n",
        "fraud_df.write.jdbc(url=jdbc_url, table='fraud_df', mode=mode, properties=config)"
      ],
      "metadata": {
        "id": "FHhpcnJl8XRh"
      },
      "execution_count": null,
      "outputs": []
    }
  ]
}