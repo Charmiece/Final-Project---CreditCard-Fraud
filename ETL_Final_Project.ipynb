{
  "nbformat": 4,
  "nbformat_minor": 0,
  "metadata": {
    "colab": {
      "name": "ETL_Final_Project",
      "provenance": [],
      "collapsed_sections": [],
      "include_colab_link": true
    },
    "kernelspec": {
      "name": "python3",
      "display_name": "Python 3"
    },
    "language_info": {
      "name": "python"
    }
  },
  "cells": [
    {
      "cell_type": "markdown",
      "metadata": {
        "id": "view-in-github",
        "colab_type": "text"
      },
      "source": [
        "<a href=\"https://colab.research.google.com/github/Charmiece/Final-Project---CreditCard-Fraud/blob/Afreensiddiqa/ETL_Final_Project.ipynb\" target=\"_parent\"><img src=\"https://colab.research.google.com/assets/colab-badge.svg\" alt=\"Open In Colab\"/></a>"
      ]
    },
    {
      "cell_type": "code",
      "execution_count": 1,
      "metadata": {
        "colab": {
          "base_uri": "https://localhost:8080/"
        },
        "id": "0R7PXg8AInEc",
        "outputId": "877d4a94-9963-4aed-f054-1ac0df15fc10"
      },
      "outputs": [
        {
          "output_type": "stream",
          "name": "stdout",
          "text": [
            "\r0% [Working]\r            \rGet:1 http://security.ubuntu.com/ubuntu bionic-security InRelease [88.7 kB]\n",
            "\r0% [Connecting to archive.ubuntu.com (185.125.190.39)] [1 InRelease 2,586 B/88.\r0% [Waiting for headers] [Connected to cloud.r-project.org (108.157.162.119)] [\r                                                                               \rGet:2 https://cloud.r-project.org/bin/linux/ubuntu bionic-cran40/ InRelease [3,626 B]\n",
            "\r                                                                               \r0% [Waiting for headers] [Waiting for headers] [Waiting for headers]\r0% [1 InRelease gpgv 88.7 kB] [Waiting for headers] [Waiting for headers] [Wait\r                                                                               \rIgn:3 https://developer.download.nvidia.com/compute/cuda/repos/ubuntu1804/x86_64  InRelease\n",
            "\r0% [1 InRelease gpgv 88.7 kB] [Waiting for headers] [Waiting for headers] [Wait\r                                                                               \rGet:4 http://ppa.launchpad.net/c2d4u.team/c2d4u4.0+/ubuntu bionic InRelease [15.9 kB]\n",
            "\r0% [1 InRelease gpgv 88.7 kB] [Waiting for headers] [4 InRelease 2,572 B/15.9 k\r                                                                               \rHit:5 http://archive.ubuntu.com/ubuntu bionic InRelease\n",
            "Ign:6 https://developer.download.nvidia.com/compute/machine-learning/repos/ubuntu1804/x86_64  InRelease\n",
            "Get:7 https://developer.download.nvidia.com/compute/cuda/repos/ubuntu1804/x86_64  Release [696 B]\n",
            "Hit:8 https://developer.download.nvidia.com/compute/machine-learning/repos/ubuntu1804/x86_64  Release\n",
            "Get:9 https://developer.download.nvidia.com/compute/cuda/repos/ubuntu1804/x86_64  Release.gpg [836 B]\n",
            "Get:10 http://archive.ubuntu.com/ubuntu bionic-updates InRelease [88.7 kB]\n",
            "Hit:11 http://ppa.launchpad.net/cran/libgit2/ubuntu bionic InRelease\n",
            "Get:12 http://ppa.launchpad.net/deadsnakes/ppa/ubuntu bionic InRelease [15.9 kB]\n",
            "Get:13 http://archive.ubuntu.com/ubuntu bionic-backports InRelease [74.6 kB]\n",
            "Get:14 http://security.ubuntu.com/ubuntu bionic-security/restricted amd64 Packages [884 kB]\n",
            "Get:15 http://ppa.launchpad.net/graphics-drivers/ppa/ubuntu bionic InRelease [21.3 kB]\n",
            "Get:16 http://security.ubuntu.com/ubuntu bionic-security/main amd64 Packages [2,693 kB]\n",
            "Get:17 http://security.ubuntu.com/ubuntu bionic-security/universe amd64 Packages [1,486 kB]\n",
            "Get:18 https://cloud.r-project.org/bin/linux/ubuntu bionic-cran40/ Packages [80.8 kB]\n",
            "Get:20 http://ppa.launchpad.net/c2d4u.team/c2d4u4.0+/ubuntu bionic/main Sources [1,830 kB]\n",
            "Get:21 https://developer.download.nvidia.com/compute/cuda/repos/ubuntu1804/x86_64  Packages [950 kB]\n",
            "Get:22 http://ppa.launchpad.net/c2d4u.team/c2d4u4.0+/ubuntu bionic/main amd64 Packages [937 kB]\n",
            "Get:23 http://archive.ubuntu.com/ubuntu bionic-updates/universe amd64 Packages [2,264 kB]\n",
            "Get:24 http://ppa.launchpad.net/deadsnakes/ppa/ubuntu bionic/main amd64 Packages [45.3 kB]\n",
            "Get:25 http://archive.ubuntu.com/ubuntu bionic-updates/multiverse amd64 Packages [29.8 kB]\n",
            "Get:26 http://archive.ubuntu.com/ubuntu bionic-updates/restricted amd64 Packages [918 kB]\n",
            "Get:27 http://ppa.launchpad.net/graphics-drivers/ppa/ubuntu bionic/main amd64 Packages [44.3 kB]\n",
            "Get:28 http://archive.ubuntu.com/ubuntu bionic-updates/main amd64 Packages [3,132 kB]\n",
            "Get:29 http://archive.ubuntu.com/ubuntu bionic-backports/universe amd64 Packages [12.9 kB]\n",
            "Get:30 http://archive.ubuntu.com/ubuntu bionic-backports/main amd64 Packages [12.2 kB]\n",
            "Fetched 15.6 MB in 8s (2,084 kB/s)\n",
            "Reading package lists... Done\n"
          ]
        }
      ],
      "source": [
        "import os\n",
        "# Find the latest version of spark 3.0  from http://www.apache.org/dist/spark/ and enter as the spark version\n",
        "# For example:\n",
        "# spark_version = 'spark-3.2.1'\n",
        "spark_version = 'spark-3.2.1'\n",
        "os.environ['SPARK_VERSION']=spark_version\n",
        "\n",
        "# Install Spark and Java\n",
        "!apt-get update\n",
        "!apt-get install openjdk-11-jdk-headless -qq > /dev/null\n",
        "!wget -q http://www.apache.org/dist/spark/$SPARK_VERSION/$SPARK_VERSION-bin-hadoop2.7.tgz\n",
        "!tar xf $SPARK_VERSION-bin-hadoop2.7.tgz\n",
        "!pip install -q findspark\n",
        "\n",
        "# Set Environment Variables\n",
        "os.environ[\"JAVA_HOME\"] = \"/usr/lib/jvm/java-11-openjdk-amd64\"\n",
        "os.environ[\"SPARK_HOME\"] = f\"/content/{spark_version}-bin-hadoop2.7\"\n",
        "\n",
        "# Start a SparkSession\n",
        "import findspark\n",
        "findspark.init()"
      ]
    },
    {
      "cell_type": "code",
      "source": [
        "!wget https://jdbc.postgresql.org/download/postgresql-42.2.16.jar"
      ],
      "metadata": {
        "colab": {
          "base_uri": "https://localhost:8080/"
        },
        "id": "Eua0KZJuK1ds",
        "outputId": "17043e89-7464-440b-e315-fd21d177d0f7"
      },
      "execution_count": 2,
      "outputs": [
        {
          "output_type": "stream",
          "name": "stdout",
          "text": [
            "--2022-04-03 20:24:33--  https://jdbc.postgresql.org/download/postgresql-42.2.16.jar\n",
            "Resolving jdbc.postgresql.org (jdbc.postgresql.org)... 72.32.157.228, 2001:4800:3e1:1::228\n",
            "Connecting to jdbc.postgresql.org (jdbc.postgresql.org)|72.32.157.228|:443... connected.\n",
            "HTTP request sent, awaiting response... 200 OK\n",
            "Length: 1002883 (979K) [application/java-archive]\n",
            "Saving to: ‘postgresql-42.2.16.jar’\n",
            "\n",
            "postgresql-42.2.16. 100%[===================>] 979.38K  --.-KB/s    in 0.1s    \n",
            "\n",
            "2022-04-03 20:24:34 (6.53 MB/s) - ‘postgresql-42.2.16.jar’ saved [1002883/1002883]\n",
            "\n"
          ]
        }
      ]
    },
    {
      "cell_type": "code",
      "source": [
        "from pyspark.sql import SparkSession\n",
        "spark = SparkSession.builder.appName(\"CloudETL\").config(\"spark.driver.extraClassPath\",\"/content/postgresql-42.2.16.jar\").getOrCreate()"
      ],
      "metadata": {
        "id": "6K--d6MrNIMd"
      },
      "execution_count": 3,
      "outputs": []
    },
    {
      "cell_type": "code",
      "source": [
        "# Read in data from S3 Buckets\n",
        "from pyspark import SparkFiles\n",
        "url =\"https://fraudcreditcard.s3.amazonaws.com/clean_data_train.csv\"\n",
        "spark.sparkContext.addFile(url)\n",
        "user_data_df = spark.read.csv(SparkFiles.get(\"clean_data_train.csv\"), sep=\",\", header=True, inferSchema=True)"
      ],
      "metadata": {
        "id": "RSOXIAPfNSIE"
      },
      "execution_count": 4,
      "outputs": []
    },
    {
      "cell_type": "code",
      "source": [
        "# Show DataFrame\n",
        "user_data_df.show()"
      ],
      "metadata": {
        "colab": {
          "base_uri": "https://localhost:8080/"
        },
        "id": "juWvCdX8ORte",
        "outputId": "b18e5e7e-c6c5-4c0c-ee82-adb4519359bf"
      },
      "execution_count": 5,
      "outputs": [
        {
          "output_type": "stream",
          "name": "stdout",
          "text": [
            "+--------------------+-------------+------+------+----------+---------+------------------+--------+---+\n",
            "|            merchant|     category|   amt|gender| unix_time|merch_lat|        merch_long|is_fraud|age|\n",
            "+--------------------+-------------+------+------+----------+---------+------------------+--------+---+\n",
            "|fraud_Rippin, Kub...|     misc_net|  4.97|     F|1325376018|36.011293|        -82.048315|       0| 34|\n",
            "|fraud_Heller, Gut...|  grocery_pos|107.23|     F|1325376044|49.159047|       -118.186462|       0| 44|\n",
            "|fraud_Lind-Buckridge|entertainment|220.11|     M|1325376051|43.150704|       -112.154481|       0| 60|\n",
            "|fraud_Kutch, Herm...|gas_transport|  45.0|     M|1325376076|47.034331|       -112.561071|       0| 55|\n",
            "| fraud_Keeling-Crist|     misc_pos| 41.96|     M|1325376186|38.674999|        -78.632459|       0| 36|\n",
            "|fraud_Stroman, Hu...|gas_transport| 94.63|     F|1325376248|40.653382|-76.15266700000001|       0| 61|\n",
            "|fraud_Rowe-Vander...|  grocery_net| 44.54|     F|1325376282|37.162705|        -100.15337|       0| 29|\n",
            "|fraud_Corwin-Collins|gas_transport| 71.65|     M|1325376308|38.948089|        -78.540296|       0| 75|\n",
            "|    fraud_Herzog Ltd|     misc_pos|  4.27|     F|1325376318|40.351813|        -79.958146|       0| 81|\n",
            "|fraud_Schoen, Kup...|  grocery_pos|198.39|     F|1325376361|37.179198|        -87.485381|       0| 48|\n",
            "|fraud_Rutherford-...|  grocery_pos| 24.74|     M|1325376383|40.275891|        -96.011548|       0| 32|\n",
            "|fraud_Kerluke-Abs...| shopping_net|  7.77|     F|1325376413|40.103866|        -78.624459|       0| 56|\n",
            "|   fraud_Lockman Ltd|  grocery_pos| 71.22|     M|1325376416|27.630593|        -82.308891|       0| 33|\n",
            "|     fraud_Kiehn Inc|  grocery_pos| 96.29|     M|1325376447| 41.65752|       -122.230347|       0| 77|\n",
            "|   fraud_Beier-Hyatt| shopping_pos|  7.77|     M|1325376543|32.863258|       -106.520205|       0| 55|\n",
            "|fraud_Schmidt and...| shopping_net|  3.26|     M|1325376560|41.831174|        -74.335559|       0| 57|\n",
            "|fraud_Lebsack and...|     misc_net| 327.0|     F|1325376649|36.384092|        -99.048472|       0| 70|\n",
            "|  fraud_Mayert Group| shopping_pos|341.67|     M|1325376658|38.674491|        -88.305767|       0| 84|\n",
            "|fraud_Konopelski,...|  food_dining| 63.07|     M|1325376674|41.430274|        -79.492553|       0| 76|\n",
            "|fraud_Schultz, Si...|  grocery_pos| 44.71|     M|1325376754|40.079588|-74.84808699999999|       0| 42|\n",
            "+--------------------+-------------+------+------+----------+---------+------------------+--------+---+\n",
            "only showing top 20 rows\n",
            "\n"
          ]
        }
      ]
    },
    {
      "cell_type": "code",
      "source": [
        "age_fraud = user_data_df[['age', 'is_fraud']]\n",
        "age_fraud.show()"
      ],
      "metadata": {
        "id": "NaQHDyBjGmuF",
        "outputId": "849ec3f7-6004-4051-dc73-548757bceeb5",
        "colab": {
          "base_uri": "https://localhost:8080/"
        }
      },
      "execution_count": 6,
      "outputs": [
        {
          "output_type": "stream",
          "name": "stdout",
          "text": [
            "+---+--------+\n",
            "|age|is_fraud|\n",
            "+---+--------+\n",
            "| 34|       0|\n",
            "| 44|       0|\n",
            "| 60|       0|\n",
            "| 55|       0|\n",
            "| 36|       0|\n",
            "| 61|       0|\n",
            "| 29|       0|\n",
            "| 75|       0|\n",
            "| 81|       0|\n",
            "| 48|       0|\n",
            "| 32|       0|\n",
            "| 56|       0|\n",
            "| 33|       0|\n",
            "| 77|       0|\n",
            "| 55|       0|\n",
            "| 57|       0|\n",
            "| 70|       0|\n",
            "| 84|       0|\n",
            "| 76|       0|\n",
            "| 42|       0|\n",
            "+---+--------+\n",
            "only showing top 20 rows\n",
            "\n"
          ]
        }
      ]
    },
    {
      "cell_type": "code",
      "source": [
        "gender_fraud = user_data_df[['gender', 'is_fraud']]\n",
        "gender_fraud.show()"
      ],
      "metadata": {
        "id": "-8Grun6vGmxP",
        "outputId": "a521f42c-fce9-4f5b-a2af-7543e980128a",
        "colab": {
          "base_uri": "https://localhost:8080/"
        }
      },
      "execution_count": 7,
      "outputs": [
        {
          "output_type": "stream",
          "name": "stdout",
          "text": [
            "+------+--------+\n",
            "|gender|is_fraud|\n",
            "+------+--------+\n",
            "|     F|       0|\n",
            "|     F|       0|\n",
            "|     M|       0|\n",
            "|     M|       0|\n",
            "|     M|       0|\n",
            "|     F|       0|\n",
            "|     F|       0|\n",
            "|     M|       0|\n",
            "|     F|       0|\n",
            "|     F|       0|\n",
            "|     M|       0|\n",
            "|     F|       0|\n",
            "|     M|       0|\n",
            "|     M|       0|\n",
            "|     M|       0|\n",
            "|     M|       0|\n",
            "|     F|       0|\n",
            "|     M|       0|\n",
            "|     M|       0|\n",
            "|     M|       0|\n",
            "+------+--------+\n",
            "only showing top 20 rows\n",
            "\n"
          ]
        }
      ]
    },
    {
      "cell_type": "code",
      "source": [
        "location_info = user_data_df[['is_fraud', 'merchant', 'merch_lat', 'merch_long']]\n",
        "location_info.show()"
      ],
      "metadata": {
        "id": "muFCnk0dGm0I",
        "outputId": "165a1d9c-a169-4548-ed5d-9e6ae50fcbe1",
        "colab": {
          "base_uri": "https://localhost:8080/"
        }
      },
      "execution_count": 8,
      "outputs": [
        {
          "output_type": "stream",
          "name": "stdout",
          "text": [
            "+--------+--------------------+---------+------------------+\n",
            "|is_fraud|            merchant|merch_lat|        merch_long|\n",
            "+--------+--------------------+---------+------------------+\n",
            "|       0|fraud_Rippin, Kub...|36.011293|        -82.048315|\n",
            "|       0|fraud_Heller, Gut...|49.159047|       -118.186462|\n",
            "|       0|fraud_Lind-Buckridge|43.150704|       -112.154481|\n",
            "|       0|fraud_Kutch, Herm...|47.034331|       -112.561071|\n",
            "|       0| fraud_Keeling-Crist|38.674999|        -78.632459|\n",
            "|       0|fraud_Stroman, Hu...|40.653382|-76.15266700000001|\n",
            "|       0|fraud_Rowe-Vander...|37.162705|        -100.15337|\n",
            "|       0|fraud_Corwin-Collins|38.948089|        -78.540296|\n",
            "|       0|    fraud_Herzog Ltd|40.351813|        -79.958146|\n",
            "|       0|fraud_Schoen, Kup...|37.179198|        -87.485381|\n",
            "|       0|fraud_Rutherford-...|40.275891|        -96.011548|\n",
            "|       0|fraud_Kerluke-Abs...|40.103866|        -78.624459|\n",
            "|       0|   fraud_Lockman Ltd|27.630593|        -82.308891|\n",
            "|       0|     fraud_Kiehn Inc| 41.65752|       -122.230347|\n",
            "|       0|   fraud_Beier-Hyatt|32.863258|       -106.520205|\n",
            "|       0|fraud_Schmidt and...|41.831174|        -74.335559|\n",
            "|       0|fraud_Lebsack and...|36.384092|        -99.048472|\n",
            "|       0|  fraud_Mayert Group|38.674491|        -88.305767|\n",
            "|       0|fraud_Konopelski,...|41.430274|        -79.492553|\n",
            "|       0|fraud_Schultz, Si...|40.079588|-74.84808699999999|\n",
            "+--------+--------------------+---------+------------------+\n",
            "only showing top 20 rows\n",
            "\n"
          ]
        }
      ]
    },
    {
      "cell_type": "code",
      "source": [
        "fraud_df = user_data_df[['is_fraud', 'category', 'amt']]\n",
        "fraud_df.show()"
      ],
      "metadata": {
        "id": "G4qhyQjNGm3A",
        "outputId": "12203270-e08b-41d8-a3c2-03f68bfe5382",
        "colab": {
          "base_uri": "https://localhost:8080/"
        }
      },
      "execution_count": 9,
      "outputs": [
        {
          "output_type": "stream",
          "name": "stdout",
          "text": [
            "+--------+-------------+------+\n",
            "|is_fraud|     category|   amt|\n",
            "+--------+-------------+------+\n",
            "|       0|     misc_net|  4.97|\n",
            "|       0|  grocery_pos|107.23|\n",
            "|       0|entertainment|220.11|\n",
            "|       0|gas_transport|  45.0|\n",
            "|       0|     misc_pos| 41.96|\n",
            "|       0|gas_transport| 94.63|\n",
            "|       0|  grocery_net| 44.54|\n",
            "|       0|gas_transport| 71.65|\n",
            "|       0|     misc_pos|  4.27|\n",
            "|       0|  grocery_pos|198.39|\n",
            "|       0|  grocery_pos| 24.74|\n",
            "|       0| shopping_net|  7.77|\n",
            "|       0|  grocery_pos| 71.22|\n",
            "|       0|  grocery_pos| 96.29|\n",
            "|       0| shopping_pos|  7.77|\n",
            "|       0| shopping_net|  3.26|\n",
            "|       0|     misc_net| 327.0|\n",
            "|       0| shopping_pos|341.67|\n",
            "|       0|  food_dining| 63.07|\n",
            "|       0|  grocery_pos| 44.71|\n",
            "+--------+-------------+------+\n",
            "only showing top 20 rows\n",
            "\n"
          ]
        }
      ]
    },
    {
      "cell_type": "code",
      "source": [
        ""
      ],
      "metadata": {
        "id": "gG9CKq1uGm5_"
      },
      "execution_count": null,
      "outputs": []
    },
    {
      "cell_type": "code",
      "source": [
        ""
      ],
      "metadata": {
        "id": "dRJn4hfRGm89"
      },
      "execution_count": null,
      "outputs": []
    },
    {
      "cell_type": "code",
      "source": [
        ""
      ],
      "metadata": {
        "id": "dHXzPtEYGm_9"
      },
      "execution_count": null,
      "outputs": []
    },
    {
      "cell_type": "code",
      "source": [
        ""
      ],
      "metadata": {
        "id": "Yr619RLoGnIy"
      },
      "execution_count": null,
      "outputs": []
    }
  ]
}