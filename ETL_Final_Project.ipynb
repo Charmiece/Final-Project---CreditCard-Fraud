{
  "nbformat": 4,
  "nbformat_minor": 0,
  "metadata": {
    "colab": {
      "name": " ETL_Final_Project",
      "provenance": [],
      "collapsed_sections": [],
      "include_colab_link": true
    },
    "kernelspec": {
      "name": "python3",
      "display_name": "Python 3"
    },
    "language_info": {
      "name": "python"
    }
  },
  "cells": [
    {
      "cell_type": "markdown",
      "metadata": {
        "id": "view-in-github",
        "colab_type": "text"
      },
      "source": [
        "<a href=\"https://colab.research.google.com/github/Charmiece/Final-Project---CreditCard-Fraud/blob/main/ETL_Final_Project.ipynb\" target=\"_parent\"><img src=\"https://colab.research.google.com/assets/colab-badge.svg\" alt=\"Open In Colab\"/></a>"
      ]
    },
    {
      "cell_type": "code",
      "execution_count": null,
      "metadata": {
        "colab": {
          "base_uri": "https://localhost:8080/"
        },
        "id": "0R7PXg8AInEc",
        "outputId": "6014eda4-bc40-4c52-bf19-bab7c64f5689"
      },
      "outputs": [
        {
          "output_type": "stream",
          "name": "stdout",
          "text": [
            "Get:1 https://cloud.r-project.org/bin/linux/ubuntu bionic-cran40/ InRelease [3,626 B]\n",
            "Ign:2 https://developer.download.nvidia.com/compute/cuda/repos/ubuntu1804/x86_64  InRelease\n",
            "Ign:3 https://developer.download.nvidia.com/compute/machine-learning/repos/ubuntu1804/x86_64  InRelease\n",
            "Get:4 https://developer.download.nvidia.com/compute/cuda/repos/ubuntu1804/x86_64  Release [696 B]\n",
            "Hit:5 https://developer.download.nvidia.com/compute/machine-learning/repos/ubuntu1804/x86_64  Release\n",
            "Get:6 https://developer.download.nvidia.com/compute/cuda/repos/ubuntu1804/x86_64  Release.gpg [836 B]\n",
            "Get:7 http://security.ubuntu.com/ubuntu bionic-security InRelease [88.7 kB]\n",
            "Get:8 http://ppa.launchpad.net/c2d4u.team/c2d4u4.0+/ubuntu bionic InRelease [15.9 kB]\n",
            "Hit:9 http://archive.ubuntu.com/ubuntu bionic InRelease\n",
            "Get:10 https://cloud.r-project.org/bin/linux/ubuntu bionic-cran40/ Packages [82.3 kB]\n",
            "Get:11 http://archive.ubuntu.com/ubuntu bionic-updates InRelease [88.7 kB]\n",
            "Hit:12 http://ppa.launchpad.net/cran/libgit2/ubuntu bionic InRelease\n",
            "Get:13 http://ppa.launchpad.net/deadsnakes/ppa/ubuntu bionic InRelease [15.9 kB]\n",
            "Get:14 http://archive.ubuntu.com/ubuntu bionic-backports InRelease [74.6 kB]\n",
            "Get:16 http://ppa.launchpad.net/graphics-drivers/ppa/ubuntu bionic InRelease [21.3 kB]\n",
            "Get:17 https://developer.download.nvidia.com/compute/cuda/repos/ubuntu1804/x86_64  Packages [952 kB]\n",
            "Get:18 http://security.ubuntu.com/ubuntu bionic-security/universe amd64 Packages [1,490 kB]\n",
            "Get:19 http://security.ubuntu.com/ubuntu bionic-security/main amd64 Packages [2,694 kB]\n",
            "Get:20 http://security.ubuntu.com/ubuntu bionic-security/restricted amd64 Packages [884 kB]\n",
            "Get:21 http://ppa.launchpad.net/c2d4u.team/c2d4u4.0+/ubuntu bionic/main Sources [1,831 kB]\n",
            "Get:22 http://archive.ubuntu.com/ubuntu bionic-updates/restricted amd64 Packages [918 kB]\n",
            "Get:23 http://archive.ubuntu.com/ubuntu bionic-updates/main amd64 Packages [3,133 kB]\n",
            "Get:24 http://archive.ubuntu.com/ubuntu bionic-updates/multiverse amd64 Packages [29.8 kB]\n",
            "Get:25 http://archive.ubuntu.com/ubuntu bionic-updates/universe amd64 Packages [2,268 kB]\n",
            "Get:26 http://archive.ubuntu.com/ubuntu bionic-backports/universe amd64 Packages [12.9 kB]\n",
            "Get:27 http://archive.ubuntu.com/ubuntu bionic-backports/main amd64 Packages [12.2 kB]\n",
            "Get:28 http://ppa.launchpad.net/c2d4u.team/c2d4u4.0+/ubuntu bionic/main amd64 Packages [938 kB]\n",
            "Get:29 http://ppa.launchpad.net/deadsnakes/ppa/ubuntu bionic/main amd64 Packages [45.2 kB]\n",
            "Get:30 http://ppa.launchpad.net/graphics-drivers/ppa/ubuntu bionic/main amd64 Packages [44.3 kB]\n",
            "Fetched 15.6 MB in 15s (1,073 kB/s)\n",
            "Reading package lists... Done\n"
          ]
        }
      ],
      "source": [
        "import os\n",
        "# Find the latest version of spark 3.0  from http://www.apache.org/dist/spark/ and enter as the spark version\n",
        "# For example:\n",
        "# spark_version = 'spark-3.2.1'\n",
        "spark_version = 'spark-3.2.1'\n",
        "os.environ['SPARK_VERSION']=spark_version\n",
        "\n",
        "# Install Spark and Java\n",
        "!apt-get update\n",
        "!apt-get install openjdk-11-jdk-headless -qq > /dev/null\n",
        "!wget -q http://www.apache.org/dist/spark/$SPARK_VERSION/$SPARK_VERSION-bin-hadoop2.7.tgz\n",
        "!tar xf $SPARK_VERSION-bin-hadoop2.7.tgz\n",
        "!pip install -q findspark\n",
        "\n",
        "# Set Environment Variables\n",
        "os.environ[\"JAVA_HOME\"] = \"/usr/lib/jvm/java-11-openjdk-amd64\"\n",
        "os.environ[\"SPARK_HOME\"] = f\"/content/{spark_version}-bin-hadoop2.7\"\n",
        "\n",
        "# Start a SparkSession\n",
        "import findspark\n",
        "findspark.init()"
      ]
    },
    {
      "cell_type": "code",
      "source": [
        "!wget https://jdbc.postgresql.org/download/postgresql-42.2.16.jar"
      ],
      "metadata": {
        "colab": {
          "base_uri": "https://localhost:8080/"
        },
        "id": "Eua0KZJuK1ds",
        "outputId": "91badf1c-02dc-4bbc-9423-8155277f9b73"
      },
      "execution_count": null,
      "outputs": [
        {
          "output_type": "stream",
          "name": "stdout",
          "text": [
            "--2022-04-09 21:01:17--  https://jdbc.postgresql.org/download/postgresql-42.2.16.jar\n",
            "Resolving jdbc.postgresql.org (jdbc.postgresql.org)... 72.32.157.228, 2001:4800:3e1:1::228\n",
            "Connecting to jdbc.postgresql.org (jdbc.postgresql.org)|72.32.157.228|:443... connected.\n",
            "HTTP request sent, awaiting response... 200 OK\n",
            "Length: 1002883 (979K) [application/java-archive]\n",
            "Saving to: ‘postgresql-42.2.16.jar’\n",
            "\n",
            "postgresql-42.2.16. 100%[===================>] 979.38K  6.03MB/s    in 0.2s    \n",
            "\n",
            "2022-04-09 21:01:18 (6.03 MB/s) - ‘postgresql-42.2.16.jar’ saved [1002883/1002883]\n",
            "\n"
          ]
        }
      ]
    },
    {
      "cell_type": "code",
      "source": [
        "from pyspark.sql import SparkSession\n",
        "spark = SparkSession.builder.appName(\"CloudETL\").config(\"spark.driver.extraClassPath\",\"/content/postgresql-42.2.16.jar\").getOrCreate()"
      ],
      "metadata": {
        "id": "6K--d6MrNIMd"
      },
      "execution_count": null,
      "outputs": []
    },
    {
      "cell_type": "code",
      "source": [
        "# Read in data from S3 Buckets\n",
        "from pyspark import SparkFiles\n",
        "url =\"https://fraudcreditcard.s3.amazonaws.com/clean_data_train.csv\"\n",
        "spark.sparkContext.addFile(url)\n",
        "user_data_df = spark.read.csv(SparkFiles.get(\"clean_data_train.csv\"), sep=\",\", header=True, inferSchema=True)"
      ],
      "metadata": {
        "id": "RSOXIAPfNSIE"
      },
      "execution_count": null,
      "outputs": []
    },
    {
      "cell_type": "code",
      "source": [
        "# Show DataFrame\n",
        "user_data_df.show()"
      ],
      "metadata": {
        "colab": {
          "base_uri": "https://localhost:8080/"
        },
        "id": "juWvCdX8ORte",
        "outputId": "2a570bf6-fd46-4c7f-d6eb-c365417f5b34"
      },
      "execution_count": null,
      "outputs": [
        {
          "output_type": "stream",
          "name": "stdout",
          "text": [
            "+----------+--------------------+-------------+------+------+----------+---------+------------------+--------+---+\n",
            "|Unnamed: 0|            merchant|     category|   amt|gender| unix_time|merch_lat|        merch_long|is_fraud|age|\n",
            "+----------+--------------------+-------------+------+------+----------+---------+------------------+--------+---+\n",
            "|         0|fraud_Rippin, Kub...|     misc_net|  4.97|     F|1325376018|36.011293|        -82.048315|       0| 34|\n",
            "|         1|fraud_Heller, Gut...|  grocery_pos|107.23|     F|1325376044|49.159047|       -118.186462|       0| 44|\n",
            "|         2|fraud_Lind-Buckridge|entertainment|220.11|     M|1325376051|43.150704|       -112.154481|       0| 60|\n",
            "|         3|fraud_Kutch, Herm...|gas_transport|  45.0|     M|1325376076|47.034331|       -112.561071|       0| 55|\n",
            "|         4| fraud_Keeling-Crist|     misc_pos| 41.96|     M|1325376186|38.674999|        -78.632459|       0| 36|\n",
            "|         5|fraud_Stroman, Hu...|gas_transport| 94.63|     F|1325376248|40.653382|-76.15266700000001|       0| 61|\n",
            "|         6|fraud_Rowe-Vander...|  grocery_net| 44.54|     F|1325376282|37.162705|        -100.15337|       0| 29|\n",
            "|         7|fraud_Corwin-Collins|gas_transport| 71.65|     M|1325376308|38.948089|        -78.540296|       0| 75|\n",
            "|         8|    fraud_Herzog Ltd|     misc_pos|  4.27|     F|1325376318|40.351813|        -79.958146|       0| 81|\n",
            "|         9|fraud_Schoen, Kup...|  grocery_pos|198.39|     F|1325376361|37.179198|        -87.485381|       0| 48|\n",
            "|        10|fraud_Rutherford-...|  grocery_pos| 24.74|     M|1325376383|40.275891|        -96.011548|       0| 32|\n",
            "|        11|fraud_Kerluke-Abs...| shopping_net|  7.77|     F|1325376413|40.103866|        -78.624459|       0| 56|\n",
            "|        12|   fraud_Lockman Ltd|  grocery_pos| 71.22|     M|1325376416|27.630593|        -82.308891|       0| 33|\n",
            "|        13|     fraud_Kiehn Inc|  grocery_pos| 96.29|     M|1325376447| 41.65752|       -122.230347|       0| 77|\n",
            "|        14|   fraud_Beier-Hyatt| shopping_pos|  7.77|     M|1325376543|32.863258|       -106.520205|       0| 55|\n",
            "|        15|fraud_Schmidt and...| shopping_net|  3.26|     M|1325376560|41.831174|        -74.335559|       0| 57|\n",
            "|        16|fraud_Lebsack and...|     misc_net| 327.0|     F|1325376649|36.384092|        -99.048472|       0| 70|\n",
            "|        17|  fraud_Mayert Group| shopping_pos|341.67|     M|1325376658|38.674491|        -88.305767|       0| 84|\n",
            "|        18|fraud_Konopelski,...|  food_dining| 63.07|     M|1325376674|41.430274|        -79.492553|       0| 76|\n",
            "|        19|fraud_Schultz, Si...|  grocery_pos| 44.71|     M|1325376754|40.079588|-74.84808699999999|       0| 42|\n",
            "+----------+--------------------+-------------+------+------+----------+---------+------------------+--------+---+\n",
            "only showing top 20 rows\n",
            "\n"
          ]
        }
      ]
    },
    {
      "cell_type": "code",
      "source": [
        "age_fraud = user_data_df[['Unnamed: 0','age', 'is_fraud']]\n",
        "age_fraud.show(50)"
      ],
      "metadata": {
        "id": "NaQHDyBjGmuF",
        "outputId": "fff08f9d-5b70-48ee-f3cc-63737737a69e",
        "colab": {
          "base_uri": "https://localhost:8080/"
        }
      },
      "execution_count": null,
      "outputs": [
        {
          "output_type": "stream",
          "name": "stdout",
          "text": [
            "+----------+---+--------+\n",
            "|Unnamed: 0|age|is_fraud|\n",
            "+----------+---+--------+\n",
            "|         0| 34|       0|\n",
            "|         1| 44|       0|\n",
            "|         2| 60|       0|\n",
            "|         3| 55|       0|\n",
            "|         4| 36|       0|\n",
            "|         5| 61|       0|\n",
            "|         6| 29|       0|\n",
            "|         7| 75|       0|\n",
            "|         8| 81|       0|\n",
            "|         9| 48|       0|\n",
            "|        10| 32|       0|\n",
            "|        11| 56|       0|\n",
            "|        12| 33|       0|\n",
            "|        13| 77|       0|\n",
            "|        14| 55|       0|\n",
            "|        15| 57|       0|\n",
            "|        16| 70|       0|\n",
            "|        17| 84|       0|\n",
            "|        18| 76|       0|\n",
            "|        19| 42|       0|\n",
            "|        20| 42|       0|\n",
            "|        21| 61|       0|\n",
            "|        22| 48|       0|\n",
            "|        23| 57|       0|\n",
            "|        24| 76|       0|\n",
            "|        25| 60|       0|\n",
            "|        26| 51|       0|\n",
            "|        27| 55|       0|\n",
            "|        28| 56|       0|\n",
            "|        29| 77|       0|\n",
            "|        30| 61|       0|\n",
            "|        31| 58|       0|\n",
            "|        32| 58|       0|\n",
            "|        33| 45|       0|\n",
            "|        34| 52|       0|\n",
            "|        35| 38|       0|\n",
            "|        36| 52|       0|\n",
            "|        37| 38|       0|\n",
            "|        38| 24|       0|\n",
            "|        39| 34|       0|\n",
            "|        40| 35|       0|\n",
            "|        41| 51|       0|\n",
            "|        42| 35|       0|\n",
            "|        43| 29|       0|\n",
            "|        44| 80|       0|\n",
            "|        45| 51|       0|\n",
            "|        46| 50|       0|\n",
            "|        47| 38|       0|\n",
            "|        48| 62|       0|\n",
            "|        49| 36|       0|\n",
            "+----------+---+--------+\n",
            "only showing top 50 rows\n",
            "\n"
          ]
        }
      ]
    },
    {
      "cell_type": "code",
      "source": [
        "gender_fraud = user_data_df[['Unnamed: 0','gender', 'is_fraud']]\n",
        "gender_fraud.show()"
      ],
      "metadata": {
        "id": "-8Grun6vGmxP",
        "outputId": "dfc3dad3-ae6c-49ab-b16a-de195a305c12",
        "colab": {
          "base_uri": "https://localhost:8080/"
        }
      },
      "execution_count": null,
      "outputs": [
        {
          "output_type": "stream",
          "name": "stdout",
          "text": [
            "+----------+------+--------+\n",
            "|Unnamed: 0|gender|is_fraud|\n",
            "+----------+------+--------+\n",
            "|         0|     F|       0|\n",
            "|         1|     F|       0|\n",
            "|         2|     M|       0|\n",
            "|         3|     M|       0|\n",
            "|         4|     M|       0|\n",
            "|         5|     F|       0|\n",
            "|         6|     F|       0|\n",
            "|         7|     M|       0|\n",
            "|         8|     F|       0|\n",
            "|         9|     F|       0|\n",
            "|        10|     M|       0|\n",
            "|        11|     F|       0|\n",
            "|        12|     M|       0|\n",
            "|        13|     M|       0|\n",
            "|        14|     M|       0|\n",
            "|        15|     M|       0|\n",
            "|        16|     F|       0|\n",
            "|        17|     M|       0|\n",
            "|        18|     M|       0|\n",
            "|        19|     M|       0|\n",
            "+----------+------+--------+\n",
            "only showing top 20 rows\n",
            "\n"
          ]
        }
      ]
    },
    {
      "cell_type": "code",
      "source": [
        "location_info = user_data_df[['Unnamed: 0','is_fraud', 'merchant', 'merch_lat', 'merch_long']]\n",
        "location_info.show()"
      ],
      "metadata": {
        "id": "muFCnk0dGm0I",
        "outputId": "8cc34fe8-c592-4236-85d9-6653b861ac54",
        "colab": {
          "base_uri": "https://localhost:8080/"
        }
      },
      "execution_count": null,
      "outputs": [
        {
          "output_type": "stream",
          "name": "stdout",
          "text": [
            "+----------+--------+--------------------+---------+------------------+\n",
            "|Unnamed: 0|is_fraud|            merchant|merch_lat|        merch_long|\n",
            "+----------+--------+--------------------+---------+------------------+\n",
            "|         0|       0|fraud_Rippin, Kub...|36.011293|        -82.048315|\n",
            "|         1|       0|fraud_Heller, Gut...|49.159047|       -118.186462|\n",
            "|         2|       0|fraud_Lind-Buckridge|43.150704|       -112.154481|\n",
            "|         3|       0|fraud_Kutch, Herm...|47.034331|       -112.561071|\n",
            "|         4|       0| fraud_Keeling-Crist|38.674999|        -78.632459|\n",
            "|         5|       0|fraud_Stroman, Hu...|40.653382|-76.15266700000001|\n",
            "|         6|       0|fraud_Rowe-Vander...|37.162705|        -100.15337|\n",
            "|         7|       0|fraud_Corwin-Collins|38.948089|        -78.540296|\n",
            "|         8|       0|    fraud_Herzog Ltd|40.351813|        -79.958146|\n",
            "|         9|       0|fraud_Schoen, Kup...|37.179198|        -87.485381|\n",
            "|        10|       0|fraud_Rutherford-...|40.275891|        -96.011548|\n",
            "|        11|       0|fraud_Kerluke-Abs...|40.103866|        -78.624459|\n",
            "|        12|       0|   fraud_Lockman Ltd|27.630593|        -82.308891|\n",
            "|        13|       0|     fraud_Kiehn Inc| 41.65752|       -122.230347|\n",
            "|        14|       0|   fraud_Beier-Hyatt|32.863258|       -106.520205|\n",
            "|        15|       0|fraud_Schmidt and...|41.831174|        -74.335559|\n",
            "|        16|       0|fraud_Lebsack and...|36.384092|        -99.048472|\n",
            "|        17|       0|  fraud_Mayert Group|38.674491|        -88.305767|\n",
            "|        18|       0|fraud_Konopelski,...|41.430274|        -79.492553|\n",
            "|        19|       0|fraud_Schultz, Si...|40.079588|-74.84808699999999|\n",
            "+----------+--------+--------------------+---------+------------------+\n",
            "only showing top 20 rows\n",
            "\n"
          ]
        }
      ]
    },
    {
      "cell_type": "code",
      "source": [
        "fraud_df = user_data_df[['Unnamed: 0','is_fraud', 'category', 'amt']]\n",
        "fraud_df.show()"
      ],
      "metadata": {
        "id": "G4qhyQjNGm3A",
        "outputId": "e2169851-d50b-42cb-cfd0-8133cad92384",
        "colab": {
          "base_uri": "https://localhost:8080/"
        }
      },
      "execution_count": null,
      "outputs": [
        {
          "output_type": "stream",
          "name": "stdout",
          "text": [
            "+----------+--------+-------------+------+\n",
            "|Unnamed: 0|is_fraud|     category|   amt|\n",
            "+----------+--------+-------------+------+\n",
            "|         0|       0|     misc_net|  4.97|\n",
            "|         1|       0|  grocery_pos|107.23|\n",
            "|         2|       0|entertainment|220.11|\n",
            "|         3|       0|gas_transport|  45.0|\n",
            "|         4|       0|     misc_pos| 41.96|\n",
            "|         5|       0|gas_transport| 94.63|\n",
            "|         6|       0|  grocery_net| 44.54|\n",
            "|         7|       0|gas_transport| 71.65|\n",
            "|         8|       0|     misc_pos|  4.27|\n",
            "|         9|       0|  grocery_pos|198.39|\n",
            "|        10|       0|  grocery_pos| 24.74|\n",
            "|        11|       0| shopping_net|  7.77|\n",
            "|        12|       0|  grocery_pos| 71.22|\n",
            "|        13|       0|  grocery_pos| 96.29|\n",
            "|        14|       0| shopping_pos|  7.77|\n",
            "|        15|       0| shopping_net|  3.26|\n",
            "|        16|       0|     misc_net| 327.0|\n",
            "|        17|       0| shopping_pos|341.67|\n",
            "|        18|       0|  food_dining| 63.07|\n",
            "|        19|       0|  grocery_pos| 44.71|\n",
            "+----------+--------+-------------+------+\n",
            "only showing top 20 rows\n",
            "\n"
          ]
        }
      ]
    },
    {
      "cell_type": "markdown",
      "source": [
        "Connect to the AWS RDS instance and write each DataFrame to its table."
      ],
      "metadata": {
        "id": "9V0IwIgL6Nwz"
      }
    },
    {
      "cell_type": "code",
      "source": [
        "# Configure settings for RDS\n",
        "mode = \"append\"\n",
        "jdbc_url=\"jdbc:postgresql://finalproject.cylfu7wfg2zs.us-east-1.rds.amazonaws.com:5432/final_DB\"\n",
        "config = {\"user\":\"postgres\", \n",
        "          \"password\": \"fraudcc1\", \n",
        "          \"driver\":\"org.postgresql.Driver\"}"
      ],
      "metadata": {
        "id": "gG9CKq1uGm5_"
      },
      "execution_count": null,
      "outputs": []
    },
    {
      "cell_type": "code",
      "source": [
        "# Write age_fraud to table in RDS\n",
        "age_fraud.write.jdbc(url=jdbc_url, table='age_fraud', mode=mode, properties=config)"
      ],
      "metadata": {
        "id": "dRJn4hfRGm89"
      },
      "execution_count": null,
      "outputs": []
    },
    {
      "cell_type": "code",
      "source": [
        "# Write gender_fraud to table in RDS\n",
        "gender_fraud.write.jdbc(url=jdbc_url, table='gender_fraud', mode=mode, properties=config)"
      ],
      "metadata": {
        "id": "dHXzPtEYGm_9"
      },
      "execution_count": null,
      "outputs": []
    },
    {
      "cell_type": "code",
      "source": [
        "# Write location_info to table in RDS\n",
        "location_info.write.jdbc(url=jdbc_url, table='location_info', mode=mode, properties=config)"
      ],
      "metadata": {
        "id": "Yr619RLoGnIy"
      },
      "execution_count": null,
      "outputs": []
    },
    {
      "cell_type": "code",
      "source": [
        "# Write fraud_df to table in RDS\n",
        "fraud_df.write.jdbc(url=jdbc_url, table='fraud_df', mode=mode, properties=config)"
      ],
      "metadata": {
        "id": "FHhpcnJl8XRh"
      },
      "execution_count": null,
      "outputs": []
    }
  ]
}